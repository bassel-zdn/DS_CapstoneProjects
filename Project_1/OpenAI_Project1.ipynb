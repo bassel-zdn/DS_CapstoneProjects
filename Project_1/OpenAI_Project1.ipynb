{
  "nbformat": 4,
  "nbformat_minor": 0,
  "metadata": {
    "colab": {
      "provenance": []
    },
    "kernelspec": {
      "name": "python3",
      "display_name": "Python 3"
    },
    "language_info": {
      "name": "python"
    }
  },
  "cells": [
    {
      "cell_type": "markdown",
      "source": [
        "___\n",
        "\n",
        "<p style=\"text-align: center;\"><img src=\"https://docs.google.com/uc?id=1lY0Uj5R04yMY3-ZppPWxqCr5pvBLYPnV\" class=\"img-fluid\" alt=\"CLRSWY\"></p>\n",
        "\n",
        "___"
      ],
      "metadata": {
        "id": "Jp0pcBxsVAMy"
      }
    },
    {
      "cell_type": "markdown",
      "source": [
        "# WELCOME\n",
        "\n",
        "This notebook will guide you through two increasingly significant applications in the realm of Generative AI: RAG (Retrieval Augmented Generation) chatbots and text summarization for big text.\n",
        "\n",
        "Through two distinct projects, you will explore these technologies and enhance your skills. Detailed descriptions of the projects are provided below."
      ],
      "metadata": {
        "id": "DxOaSxtJWV1G"
      }
    },
    {
      "cell_type": "markdown",
      "source": [
        "## Project 1: Building a Chatbot with a PDF Document (RAG)\n",
        "\n",
        "In this project, you will develop a chatbot using a provided PDF document from web page. You will utilize the Langchain framework along with a large language model (LLM) such as GPT or Gemini. The chatbot will leverage the Retrieval Augmented Generation (RAG) technique to comprehend the document's content and respond to user queries effectively.\n",
        "\n",
        "### **Project Steps:**\n",
        "\n",
        "- **1.PDF Document Upload:** Upload the provided PDF document from web page (https://aclanthology.org/N19-1423.pdf) (BERT: Pre-training of Deep Bidirectional Transformers for Language Understanding).\n",
        "\n",
        "- **2.Chunking:** Divide the uploaded PDF document into smaller segments (chunks). This facilitates more efficient information processing by the LLM.\n",
        "\n",
        "- **3.ChromaDB Setup:**\n",
        "  - Save ChromaDB to your Google Drive.\n",
        "\n",
        "  - Retrieve ChromaDB from your Drive to begin using it in your project.\n",
        "\n",
        "  - ChromaDB serves as a vector database to store embedding vectors generated from your document.\n",
        "\n",
        "- **4.Embedding Vectors Creation:**\n",
        "  - Convert the chunked document into embedding vectors. You can use either GPT or Gemini embedding models for this purpose.\n",
        "\n",
        "  - If you choose the Gemini embedding model, set \"task_type\" to \"retrieval_document\" when converting the chunked document.\n",
        "\n",
        "- **5.Chatbot Development:**\n",
        "  - Utilize the **load_qa_chain** function from the Langchain library to build the chatbot.\n",
        "\n",
        "  - This function will interpret user queries, retrieve relevant information from **ChromaDB**, and generate responses accordingly.\n",
        "\n"
      ],
      "metadata": {
        "id": "MaCz7nhxKI9R"
      }
    },
    {
      "cell_type": "markdown",
      "source": [
        "### Install Libraries"
      ],
      "metadata": {
        "id": "_eoQWi-uN0dx"
      }
    },
    {
      "cell_type": "code",
      "source": [
        "!pip install -qU langchain-google-community"
      ],
      "metadata": {
        "id": "PCbI4MuNanVu"
      },
      "execution_count": 1,
      "outputs": []
    },
    {
      "cell_type": "code",
      "source": [
        "!pip install -qU langchain-community"
      ],
      "metadata": {
        "id": "qOaahY-AancA"
      },
      "execution_count": 2,
      "outputs": []
    },
    {
      "cell_type": "code",
      "source": [
        "!pip install -qU langchain-openai"
      ],
      "metadata": {
        "id": "kRNwBOl4Muia"
      },
      "execution_count": 3,
      "outputs": []
    },
    {
      "cell_type": "code",
      "source": [
        "!pip install -qU langchain-chroma"
      ],
      "metadata": {
        "id": "meH_SvPwMzbz"
      },
      "execution_count": 4,
      "outputs": []
    },
    {
      "cell_type": "code",
      "source": [
        "!pip install -qU pypdfium2"
      ],
      "metadata": {
        "id": "ewnBm9Y_M4Yv"
      },
      "execution_count": 5,
      "outputs": []
    },
    {
      "cell_type": "markdown",
      "source": [
        "### Access Google Drive"
      ],
      "metadata": {
        "id": "FuLllnCl2yfe"
      }
    },
    {
      "cell_type": "code",
      "source": [
        "from google.colab import drive\n",
        "drive.mount('/content/drive')"
      ],
      "metadata": {
        "colab": {
          "base_uri": "https://localhost:8080/"
        },
        "id": "gypYW5b9M-U5",
        "outputId": "ded1be09-ff89-484e-a266-1229c38a31ab"
      },
      "execution_count": 6,
      "outputs": [
        {
          "output_type": "stream",
          "name": "stdout",
          "text": [
            "Drive already mounted at /content/drive; to attempt to forcibly remount, call drive.mount(\"/content/drive\", force_remount=True).\n"
          ]
        }
      ]
    },
    {
      "cell_type": "markdown",
      "source": [
        "### Entering Your OpenAI or Google Gemini API Key."
      ],
      "metadata": {
        "id": "0uR9bJp_0MyF"
      }
    },
    {
      "cell_type": "code",
      "source": [
        "import os\n",
        "from google.colab import userdata\n",
        "os.environ['OPENAI_API_KEY']=userdata.get('OPENAI_API_KEY')"
      ],
      "metadata": {
        "id": "2jwo1SQ2asnZ"
      },
      "execution_count": 7,
      "outputs": []
    },
    {
      "cell_type": "code",
      "source": [],
      "metadata": {
        "id": "90rF1aM1astv"
      },
      "execution_count": 7,
      "outputs": []
    },
    {
      "cell_type": "markdown",
      "source": [
        "### Loading PDF Document"
      ],
      "metadata": {
        "id": "OV9rG-0PN8p0"
      }
    },
    {
      "cell_type": "code",
      "source": [
        "# create a pdf reader function\n",
        "from langchain_community.document_loaders import PyPDFium2Loader\n",
        "\n",
        "def read_doc(directory):\n",
        "    file_loader=PyPDFium2Loader(directory)\n",
        "    pdf_documents=file_loader.load() # PyPDFium2Loader reads page by page\n",
        "    return pdf_documents"
      ],
      "metadata": {
        "id": "5H6eQyYyauxP"
      },
      "execution_count": 8,
      "outputs": []
    },
    {
      "cell_type": "code",
      "source": [
        "pdf=read_doc('/content/N19-1423_BERT.pdf')\n",
        "len(pdf)\n",
        "\n",
        "# The document consists of 16 pages"
      ],
      "metadata": {
        "id": "n_kXJZ5Taupv",
        "colab": {
          "base_uri": "https://localhost:8080/"
        },
        "outputId": "11adb401-e8aa-4540-a568-70e0ced0664a"
      },
      "execution_count": 9,
      "outputs": [
        {
          "output_type": "stream",
          "name": "stderr",
          "text": [
            "/usr/local/lib/python3.11/dist-packages/pypdfium2/_helpers/textpage.py:80: UserWarning: get_text_range() call with default params will be implicitly redirected to get_text_bounded()\n",
            "  warnings.warn(\"get_text_range() call with default params will be implicitly redirected to get_text_bounded()\")\n"
          ]
        },
        {
          "output_type": "execute_result",
          "data": {
            "text/plain": [
              "16"
            ]
          },
          "metadata": {},
          "execution_count": 9
        }
      ]
    },
    {
      "cell_type": "code",
      "source": [
        "pdf"
      ],
      "metadata": {
        "colab": {
          "base_uri": "https://localhost:8080/"
        },
        "id": "dWT2cBCfpfU-",
        "outputId": "3f5ffce4-6479-4f7e-ddf7-06bb1ef00137"
      },
      "execution_count": 10,
      "outputs": [
        {
          "output_type": "execute_result",
          "data": {
            "text/plain": [
              "[Document(metadata={'title': 'BERT: Pre-training of Deep Bidirectional Transformers for Language Understanding', 'author': 'Jacob Devlin ; Ming-Wei Chang ; Kenton Lee ; Kristina Toutanova', 'subject': 'N19-1 2019', 'keywords': '', 'creator': 'LaTeX with hyperref package', 'producer': 'pdfTeX-1.40.18', 'creationdate': '2019-04-29T17:36:03+00:00', 'moddate': '2019-04-29T17:36:03+00:00', 'source': '/content/N19-1423_BERT.pdf', 'total_pages': 16, 'page': 0}, page_content='Proceedings of NAACL-HLT 2019, pages 4171–4186\\nMinneapolis, Minnesota, June 2 - June 7, 2019. \\nc 2019 Association for Computational Linguistics\\n4171\\nBERT: Pre-training of Deep Bidirectional Transformers for\\nLanguage Understanding\\nJacob Devlin Ming-Wei Chang Kenton Lee Kristina Toutanova\\nGoogle AI Language\\n{jacobdevlin,mingweichang,kentonl,kristout}@google.com\\nAbstract\\nWe introduce a new language representa\\x02tion model called BERT, which stands for\\nBidirectional Encoder Representations from\\nTransformers. Unlike recent language repre\\x02sentation models (Peters et al., 2018a; Rad\\x02ford et al., 2018), BERT is designed to pre\\x02train deep bidirectional representations from\\nunlabeled text by jointly conditioning on both\\nleft and right context in all layers. As a re\\x02sult, the pre-trained BERT model can be fine\\x02tuned with just one additional output layer\\nto create state-of-the-art models for a wide\\nrange of tasks, such as question answering and\\nlanguage inference, without substantial task\\x02specific architecture modifications.\\nBERT is conceptually simple and empirically\\npowerful. It obtains new state-of-the-art re\\x02sults on eleven natural language processing\\ntasks, including pushing the GLUE score to\\n80.5% (7.7% point absolute improvement),\\nMultiNLI accuracy to 86.7% (4.6% absolute\\nimprovement), SQuAD v1.1 question answer\\x02ing Test F1 to 93.2 (1.5 point absolute im\\x02provement) and SQuAD v2.0 Test F1 to 83.1\\n(5.1 point absolute improvement).\\n1 Introduction\\nLanguage model pre-training has been shown to\\nbe effective for improving many natural language\\nprocessing tasks (Dai and Le, 2015; Peters et al.,\\n2018a; Radford et al., 2018; Howard and Ruder,\\n2018). These include sentence-level tasks such as\\nnatural language inference (Bowman et al., 2015;\\nWilliams et al., 2018) and paraphrasing (Dolan\\nand Brockett, 2005), which aim to predict the re\\x02lationships between sentences by analyzing them\\nholistically, as well as token-level tasks such as\\nnamed entity recognition and question answering,\\nwhere models are required to produce fine-grained\\noutput at the token level (Tjong Kim Sang and\\nDe Meulder, 2003; Rajpurkar et al., 2016).\\nThere are two existing strategies for apply\\x02ing pre-trained language representations to down\\x02stream tasks: feature-based and fine-tuning. The\\nfeature-based approach, such as ELMo (Peters\\net al., 2018a), uses task-specific architectures that\\ninclude the pre-trained representations as addi\\x02tional features. The fine-tuning approach, such as\\nthe Generative Pre-trained Transformer (OpenAI\\nGPT) (Radford et al., 2018), introduces minimal\\ntask-specific parameters, and is trained on the\\ndownstream tasks by simply fine-tuning all pre\\x02trained parameters. The two approaches share the\\nsame objective function during pre-training, where\\nthey use unidirectional language models to learn\\ngeneral language representations.\\nWe argue that current techniques restrict the\\npower of the pre-trained representations, espe\\x02cially for the fine-tuning approaches. The ma\\x02jor limitation is that standard language models are\\nunidirectional, and this limits the choice of archi\\x02tectures that can be used during pre-training. For\\nexample, in OpenAI GPT, the authors use a left-to\\x02right architecture, where every token can only at\\x02tend to previous tokens in the self-attention layers\\nof the Transformer (Vaswani et al., 2017). Such re\\x02strictions are sub-optimal for sentence-level tasks,\\nand could be very harmful when applying fine\\x02tuning based approaches to token-level tasks such\\nas question answering, where it is crucial to incor\\x02porate context from both directions.\\nIn this paper, we improve the fine-tuning based\\napproaches by proposing BERT: Bidirectional\\nEncoder Representations from Transformers.\\nBERT alleviates the previously mentioned unidi\\x02rectionality constraint by using a “masked lan\\x02guage model” (MLM) pre-training objective, in\\x02spired by the Cloze task (Taylor, 1953). The\\nmasked language model randomly masks some of\\nthe tokens from the input, and the objective is to\\npredict the original vocabulary id of the masked\\n'),\n",
              " Document(metadata={'title': 'BERT: Pre-training of Deep Bidirectional Transformers for Language Understanding', 'author': 'Jacob Devlin ; Ming-Wei Chang ; Kenton Lee ; Kristina Toutanova', 'subject': 'N19-1 2019', 'keywords': '', 'creator': 'LaTeX with hyperref package', 'producer': 'pdfTeX-1.40.18', 'creationdate': '2019-04-29T17:36:03+00:00', 'moddate': '2019-04-29T17:36:03+00:00', 'source': '/content/N19-1423_BERT.pdf', 'total_pages': 16, 'page': 1}, page_content='4172\\nword based only on its context. Unlike left-to\\x02right language model pre-training, the MLM ob\\x02jective enables the representation to fuse the left\\nand the right context, which allows us to pre\\x02train a deep bidirectional Transformer. In addi\\x02tion to the masked language model, we also use\\na “next sentence prediction” task that jointly pre\\x02trains text-pair representations. The contributions\\nof our paper are as follows:\\n• We demonstrate the importance of bidirectional\\npre-training for language representations. Un\\x02like Radford et al. (2018), which uses unidirec\\x02tional language models for pre-training, BERT\\nuses masked language models to enable pre\\x02trained deep bidirectional representations. This\\nis also in contrast to Peters et al. (2018a), which\\nuses a shallow concatenation of independently\\ntrained left-to-right and right-to-left LMs.\\n• We show that pre-trained representations reduce\\nthe need for many heavily-engineered task\\x02specific architectures. BERT is the first fine\\x02tuning based representation model that achieves\\nstate-of-the-art performance on a large suite\\nof sentence-level and token-level tasks, outper\\x02forming many task-specific architectures.\\n• BERT advances the state of the art for eleven\\nNLP tasks. The code and pre-trained mod\\x02els are available at https://github.com/\\ngoogle-research/bert.\\n2 Related Work\\nThere is a long history of pre-training general lan\\x02guage representations, and we briefly review the\\nmost widely-used approaches in this section.\\n2.1 Unsupervised Feature-based Approaches\\nLearning widely applicable representations of\\nwords has been an active area of research for\\ndecades, including non-neural (Brown et al., 1992;\\nAndo and Zhang, 2005; Blitzer et al., 2006) and\\nneural (Mikolov et al., 2013; Pennington et al.,\\n2014) methods. Pre-trained word embeddings\\nare an integral part of modern NLP systems, of\\x02fering significant improvements over embeddings\\nlearned from scratch (Turian et al., 2010). To pre\\x02train word embedding vectors, left-to-right lan\\x02guage modeling objectives have been used (Mnih\\nand Hinton, 2009), as well as objectives to dis\\x02criminate correct from incorrect words in left and\\nright context (Mikolov et al., 2013).\\nThese approaches have been generalized to\\ncoarser granularities, such as sentence embed\\x02dings (Kiros et al., 2015; Logeswaran and Lee,\\n2018) or paragraph embeddings (Le and Mikolov,\\n2014). To train sentence representations, prior\\nwork has used objectives to rank candidate next\\nsentences (Jernite et al., 2017; Logeswaran and\\nLee, 2018), left-to-right generation of next sen\\x02tence words given a representation of the previous\\nsentence (Kiros et al., 2015), or denoising auto\\x02encoder derived objectives (Hill et al., 2016).\\nELMo and its predecessor (Peters et al., 2017,\\n2018a) generalize traditional word embedding re\\x02search along a different dimension. They extract\\ncontext-sensitive features from a left-to-right and a\\nright-to-left language model. The contextual rep\\x02resentation of each token is the concatenation of\\nthe left-to-right and right-to-left representations.\\nWhen integrating contextual word embeddings\\nwith existing task-specific architectures, ELMo\\nadvances the state of the art for several major NLP\\nbenchmarks (Peters et al., 2018a) including ques\\x02tion answering (Rajpurkar et al., 2016), sentiment\\nanalysis (Socher et al., 2013), and named entity\\nrecognition (Tjong Kim Sang and De Meulder,\\n2003). Melamud et al. (2016) proposed learning\\ncontextual representations through a task to pre\\x02dict a single word from both left and right context\\nusing LSTMs. Similar to ELMo, their model is\\nfeature-based and not deeply bidirectional. Fedus\\net al. (2018) shows that the cloze task can be used\\nto improve the robustness of text generation mod\\x02els.\\n2.2 Unsupervised Fine-tuning Approaches\\nAs with the feature-based approaches, the first\\nworks in this direction only pre-trained word em\\x02bedding parameters from unlabeled text (Col\\x02lobert and Weston, 2008).\\nMore recently, sentence or document encoders\\nwhich produce contextual token representations\\nhave been pre-trained from unlabeled text and\\nfine-tuned for a supervised downstream task (Dai\\nand Le, 2015; Howard and Ruder, 2018; Radford\\net al., 2018). The advantage of these approaches\\nis that few parameters need to be learned from\\nscratch. At least partly due to this advantage,\\nOpenAI GPT (Radford et al., 2018) achieved pre\\x02viously state-of-the-art results on many sentence\\x02level tasks from the GLUE benchmark (Wang\\net al., 2018a). Left-to-right language model-\\n'),\n",
              " Document(metadata={'title': 'BERT: Pre-training of Deep Bidirectional Transformers for Language Understanding', 'author': 'Jacob Devlin ; Ming-Wei Chang ; Kenton Lee ; Kristina Toutanova', 'subject': 'N19-1 2019', 'keywords': '', 'creator': 'LaTeX with hyperref package', 'producer': 'pdfTeX-1.40.18', 'creationdate': '2019-04-29T17:36:03+00:00', 'moddate': '2019-04-29T17:36:03+00:00', 'source': '/content/N19-1423_BERT.pdf', 'total_pages': 16, 'page': 2}, page_content='4173\\nBERT BERT\\nE[CLS] E1\\n E[SEP] ... EN\\nE1’ ... EM’\\nC T1 T[SEP] ... TN\\nT1’ ... TM’\\n[CLS] Tok 1 [SEP] ... Tok N Tok 1 ... TokM\\nQuestion Paragraph\\nStart/End Span\\nBERT\\nE[CLS] E1\\n E[SEP] ... EN\\nE1’ ... EM’\\nC T1 T[SEP] ... TN\\nT1’ ... TM’\\n[CLS] Tok 1 [SEP] ... Tok N Tok 1 ... TokM\\nMasked Sentence A Masked Sentence B\\nPre-training Fine-Tuning\\nNSP Mask LM Mask LM\\nUnlabeled Sentence A and B Pair \\nSQuAD\\nQuestion Answer Pair\\nMNLI NER\\nFigure 1: Overall pre-training and fine-tuning procedures for BERT. Apart from output layers, the same architec\\x02tures are used in both pre-training and fine-tuning. The same pre-trained model parameters are used to initialize\\nmodels for different down-stream tasks. During fine-tuning, all parameters are fine-tuned. [CLS] is a special\\nsymbol added in front of every input example, and [SEP] is a special separator token (e.g. separating ques\\x02tions/answers).\\ning and auto-encoder objectives have been used\\nfor pre-training such models (Howard and Ruder,\\n2018; Radford et al., 2018; Dai and Le, 2015).\\n2.3 Transfer Learning from Supervised Data\\nThere has also been work showing effective trans\\x02fer from supervised tasks with large datasets, such\\nas natural language inference (Conneau et al.,\\n2017) and machine translation (McCann et al.,\\n2017). Computer vision research has also demon\\x02strated the importance of transfer learning from\\nlarge pre-trained models, where an effective recipe\\nis to fine-tune models pre-trained with Ima\\x02geNet (Deng et al., 2009; Yosinski et al., 2014).\\n3 BERT\\nWe introduce BERT and its detailed implementa\\x02tion in this section. There are two steps in our\\nframework: pre-training and fine-tuning. Dur\\x02ing pre-training, the model is trained on unlabeled\\ndata over different pre-training tasks. For fine\\x02tuning, the BERT model is first initialized with\\nthe pre-trained parameters, and all of the param\\x02eters are fine-tuned using labeled data from the\\ndownstream tasks. Each downstream task has sep\\x02arate fine-tuned models, even though they are ini\\x02tialized with the same pre-trained parameters. The\\nquestion-answering example in Figure 1 will serve\\nas a running example for this section.\\nA distinctive feature of BERT is its unified ar\\x02chitecture across different tasks. There is mini\\x02mal difference between the pre-trained architec\\x02ture and the final downstream architecture.\\nModel Architecture BERT’s model architec\\x02ture is a multi-layer bidirectional Transformer en\\x02coder based on the original implementation de\\x02scribed in Vaswani et al. (2017) and released in\\nthe tensor2tensor library.1 Because the use\\nof Transformers has become common and our im\\x02plementation is almost identical to the original,\\nwe will omit an exhaustive background descrip\\x02tion of the model architecture and refer readers to\\nVaswani et al. (2017) as well as excellent guides\\nsuch as “The Annotated Transformer.”2\\nIn this work, we denote the number of layers\\n(i.e., Transformer blocks) as L, the hidden size as\\nH, and the number of self-attention heads as A.\\n3\\nWe primarily report results on two model sizes:\\nBERTBASE (L=12, H=768, A=12, Total Param\\x02eters=110M) and BERTLARGE (L=24, H=1024,\\nA=16, Total Parameters=340M).\\nBERTBASE was chosen to have the same model\\nsize as OpenAI GPT for comparison purposes.\\nCritically, however, the BERT Transformer uses\\nbidirectional self-attention, while the GPT Trans\\x02former uses constrained self-attention where every\\ntoken can only attend to context to its left.4\\n1\\nhttps://github.com/tensorflow/tensor2tensor\\n2\\nhttp://nlp.seas.harvard.edu/2018/04/03/attention.html\\n3\\nIn all cases we set the feed-forward/filter size to be 4H,\\ni.e., 3072 for the H = 768 and 4096 for the H = 1024.\\n4We note that in the literature the bidirectional Trans-\\n'),\n",
              " Document(metadata={'title': 'BERT: Pre-training of Deep Bidirectional Transformers for Language Understanding', 'author': 'Jacob Devlin ; Ming-Wei Chang ; Kenton Lee ; Kristina Toutanova', 'subject': 'N19-1 2019', 'keywords': '', 'creator': 'LaTeX with hyperref package', 'producer': 'pdfTeX-1.40.18', 'creationdate': '2019-04-29T17:36:03+00:00', 'moddate': '2019-04-29T17:36:03+00:00', 'source': '/content/N19-1423_BERT.pdf', 'total_pages': 16, 'page': 3}, page_content='4174\\nInput/Output Representations To make BERT\\nhandle a variety of down-stream tasks, our input\\nrepresentation is able to unambiguously represent\\nboth a single sentence and a pair of sentences\\n(e.g., h Question, Answeri) in one token sequence.\\nThroughout this work, a “sentence” can be an arbi\\x02trary span of contiguous text, rather than an actual\\nlinguistic sentence. A “sequence” refers to the in\\x02put token sequence to BERT, which may be a sin\\x02gle sentence or two sentences packed together.\\nWe use WordPiece embeddings (Wu et al.,\\n2016) with a 30,000 token vocabulary. The first\\ntoken of every sequence is always a special clas\\x02sification token ([CLS]). The final hidden state\\ncorresponding to this token is used as the ag\\x02gregate sequence representation for classification\\ntasks. Sentence pairs are packed together into a\\nsingle sequence. We differentiate the sentences in\\ntwo ways. First, we separate them with a special\\ntoken ([SEP]). Second, we add a learned embed\\x02ding to every token indicating whether it belongs\\nto sentence A or sentence B. As shown in Figure 1,\\nwe denote input embedding as E, the final hidden\\nvector of the special [CLS] token as C ∈ R\\nH,\\nand the final hidden vector for the i\\nth input token\\nas Ti ∈ R\\nH.\\nFor a given token, its input representation is\\nconstructed by summing the corresponding token,\\nsegment, and position embeddings. A visualiza\\x02tion of this construction can be seen in Figure 2.\\n3.1 Pre-training BERT\\nUnlike Peters et al. (2018a) and Radford et al.\\n(2018), we do not use traditional left-to-right or\\nright-to-left language models to pre-train BERT.\\nInstead, we pre-train BERT using two unsuper\\x02vised tasks, described in this section. This step\\nis presented in the left part of Figure 1.\\nTask #1: Masked LM Intuitively, it is reason\\x02able to believe that a deep bidirectional model is\\nstrictly more powerful than either a left-to-right\\nmodel or the shallow concatenation of a left-to\\x02right and a right-to-left model. Unfortunately,\\nstandard conditional language models can only be\\ntrained left-to-right or right-to-left, since bidirec\\x02tional conditioning would allow each word to in\\x02directly “see itself”, and the model could trivially\\npredict the target word in a multi-layered context.\\nformer is often referred to as a “Transformer encoder” while\\nthe left-context-only version is referred to as a “Transformer\\ndecoder” since it can be used for text generation.\\nIn order to train a deep bidirectional representa\\x02tion, we simply mask some percentage of the input\\ntokens at random, and then predict those masked\\ntokens. We refer to this procedure as a “masked\\nLM” (MLM), although it is often referred to as a\\nCloze task in the literature (Taylor, 1953). In this\\ncase, the final hidden vectors corresponding to the\\nmask tokens are fed into an output softmax over\\nthe vocabulary, as in a standard LM. In all of our\\nexperiments, we mask 15% of all WordPiece to\\x02kens in each sequence at random. In contrast to\\ndenoising auto-encoders (Vincent et al., 2008), we\\nonly predict the masked words rather than recon\\x02structing the entire input.\\nAlthough this allows us to obtain a bidirec\\x02tional pre-trained model, a downside is that we\\nare creating a mismatch between pre-training and\\nfine-tuning, since the [MASK] token does not ap\\x02pear during fine-tuning. To mitigate this, we do\\nnot always replace “masked” words with the ac\\x02tual [MASK] token. The training data generator\\nchooses 15% of the token positions at random for\\nprediction. If the i-th token is chosen, we replace\\nthe i-th token with (1) the [MASK] token 80% of\\nthe time (2) a random token 10% of the time (3)\\nthe unchanged i-th token 10% of the time. Then,\\nTi will be used to predict the original token with\\ncross entropy loss. We compare variations of this\\nprocedure in Appendix C.2.\\nTask #2: Next Sentence Prediction (NSP)\\nMany important downstream tasks such as Ques\\x02tion Answering (QA) and Natural Language Infer\\x02ence (NLI) are based on understanding the rela\\x02tionship between two sentences, which is not di\\x02rectly captured by language modeling. In order\\nto train a model that understands sentence rela\\x02tionships, we pre-train for a binarized next sen\\x02tence prediction task that can be trivially gener\\x02ated from any monolingual corpus. Specifically,\\nwhen choosing the sentences A and B for each pre\\x02training example, 50% of the time B is the actual\\nnext sentence that follows A (labeled as IsNext),\\nand 50% of the time it is a random sentence from\\nthe corpus (labeled as NotNext). As we show\\nin Figure 1, C is used for next sentence predic\\x02tion (NSP).5 Despite its simplicity, we demon\\x02strate in Section 5.1 that pre-training towards this\\ntask is very beneficial to both QA and NLI. 6\\n5The final model achieves 97%-98% accuracy on NSP.\\n6The vector C is not a meaningful sentence representation\\nwithout fine-tuning, since it was trained with NSP.\\n'),\n",
              " Document(metadata={'title': 'BERT: Pre-training of Deep Bidirectional Transformers for Language Understanding', 'author': 'Jacob Devlin ; Ming-Wei Chang ; Kenton Lee ; Kristina Toutanova', 'subject': 'N19-1 2019', 'keywords': '', 'creator': 'LaTeX with hyperref package', 'producer': 'pdfTeX-1.40.18', 'creationdate': '2019-04-29T17:36:03+00:00', 'moddate': '2019-04-29T17:36:03+00:00', 'source': '/content/N19-1423_BERT.pdf', 'total_pages': 16, 'page': 4}, page_content='4175\\n[CLS] my dog is cute [SEP] he likes play ##ing [SEP] Input\\nE[CLS] Ehe Elikes Eplay E##ing E[SEP] Emy Edog Eis Ecute E[SEP]\\nToken\\nEmbeddings\\nEAEBEBEBEBEBEAEAEAEAEA\\nSegment\\nEmbeddings\\nE0 E6E7E8E9E10 E1E2E3E4E5\\nPosition\\nEmbeddings\\nFigure 2: BERT input representation. The input embeddings are the sum of the token embeddings, the segmenta\\x02tion embeddings and the position embeddings.\\nThe NSP task is closely related to representation\\x02learning objectives used in Jernite et al. (2017) and\\nLogeswaran and Lee (2018). However, in prior\\nwork, only sentence embeddings are transferred to\\ndown-stream tasks, where BERT transfers all pa\\x02rameters to initialize end-task model parameters.\\nPre-training data The pre-training procedure\\nlargely follows the existing literature on language\\nmodel pre-training. For the pre-training corpus we\\nuse the BooksCorpus (800M words) (Zhu et al.,\\n2015) and English Wikipedia (2,500M words).\\nFor Wikipedia we extract only the text passages\\nand ignore lists, tables, and headers. It is criti\\x02cal to use a document-level corpus rather than a\\nshuffled sentence-level corpus such as the Billion\\nWord Benchmark (Chelba et al., 2013) in order to\\nextract long contiguous sequences.\\n3.2 Fine-tuning BERT\\nFine-tuning is straightforward since the self\\x02attention mechanism in the Transformer al\\x02lows BERT to model many downstream tasks—\\nwhether they involve single text or text pairs—by\\nswapping out the appropriate inputs and outputs.\\nFor applications involving text pairs, a common\\npattern is to independently encode text pairs be\\x02fore applying bidirectional cross attention, such\\nas Parikh et al. (2016); Seo et al. (2017). BERT\\ninstead uses the self-attention mechanism to unify\\nthese two stages, as encoding a concatenated text\\npair with self-attention effectively includes bidi\\x02rectional cross attention between two sentences.\\nFor each task, we simply plug in the task\\x02specific inputs and outputs into BERT and fine\\x02tune all the parameters end-to-end. At the in\\x02put, sentence A and sentence B from pre-training\\nare analogous to (1) sentence pairs in paraphras\\x02ing, (2) hypothesis-premise pairs in entailment, (3)\\nquestion-passage pairs in question answering, and\\n(4) a degenerate text-∅ pair in text classification\\nor sequence tagging. At the output, the token rep\\x02resentations are fed into an output layer for token\\x02level tasks, such as sequence tagging or question\\nanswering, and the [CLS] representation is fed\\ninto an output layer for classification, such as en\\x02tailment or sentiment analysis.\\nCompared to pre-training, fine-tuning is rela\\x02tively inexpensive. All of the results in the pa\\x02per can be replicated in at most 1 hour on a sin\\x02gle Cloud TPU, or a few hours on a GPU, starting\\nfrom the exact same pre-trained model.7 We de\\x02scribe the task-specific details in the correspond\\x02ing subsections of Section 4. More details can be\\nfound in Appendix A.5.\\n4 Experiments\\nIn this section, we present BERT fine-tuning re\\x02sults on 11 NLP tasks.\\n4.1 GLUE\\nThe General Language Understanding Evaluation\\n(GLUE) benchmark (Wang et al., 2018a) is a col\\x02lection of diverse natural language understanding\\ntasks. Detailed descriptions of GLUE datasets are\\nincluded in Appendix B.1.\\nTo fine-tune on GLUE, we represent the input\\nsequence (for single sentence or sentence pairs)\\nas described in Section 3, and use the final hid\\x02den vector C ∈ R\\nH corresponding to the first\\ninput token ([CLS]) as the aggregate representa\\x02tion. The only new parameters introduced during\\nfine-tuning are classification layer weights W ∈\\nR\\nK×H, where K is the number of labels. We com\\x02pute a standard classification loss with C and W,\\ni.e., log(softmax(CWT)).\\n7\\nFor example, the BERT SQuAD model can be trained in\\naround 30 minutes on a single Cloud TPU to achieve a Dev\\nF1 score of 91.0%.\\n8\\nSee (10) in https://gluebenchmark.com/faq.\\n'),\n",
              " Document(metadata={'title': 'BERT: Pre-training of Deep Bidirectional Transformers for Language Understanding', 'author': 'Jacob Devlin ; Ming-Wei Chang ; Kenton Lee ; Kristina Toutanova', 'subject': 'N19-1 2019', 'keywords': '', 'creator': 'LaTeX with hyperref package', 'producer': 'pdfTeX-1.40.18', 'creationdate': '2019-04-29T17:36:03+00:00', 'moddate': '2019-04-29T17:36:03+00:00', 'source': '/content/N19-1423_BERT.pdf', 'total_pages': 16, 'page': 5}, page_content='4176\\nSystem MNLI-(m/mm) QQP QNLI SST-2 CoLA STS-B MRPC RTE Average\\n392k 363k 108k 67k 8.5k 5.7k 3.5k 2.5k -\\nPre-OpenAI SOTA 80.6/80.1 66.1 82.3 93.2 35.0 81.0 86.0 61.7 74.0\\nBiLSTM+ELMo+Attn 76.4/76.1 64.8 79.8 90.4 36.0 73.3 84.9 56.8 71.0\\nOpenAI GPT 82.1/81.4 70.3 87.4 91.3 45.4 80.0 82.3 56.0 75.1\\nBERTBASE 84.6/83.4 71.2 90.5 93.5 52.1 85.8 88.9 66.4 79.6\\nBERTLARGE 86.7/85.9 72.1 92.7 94.9 60.5 86.5 89.3 70.1 82.1\\nTable 1: GLUE Test results, scored by the evaluation server (https://gluebenchmark.com/leaderboard).\\nThe number below each task denotes the number of training examples. The “Average” column is slightly different\\nthan the official GLUE score, since we exclude the problematic WNLI set.8 BERT and OpenAI GPT are single\\x02model, single task. F1 scores are reported for QQP and MRPC, Spearman correlations are reported for STS-B, and\\naccuracy scores are reported for the other tasks. We exclude entries that use BERT as one of their components.\\nWe use a batch size of 32 and fine-tune for 3\\nepochs over the data for all GLUE tasks. For each\\ntask, we selected the best fine-tuning learning rate\\n(among 5e-5, 4e-5, 3e-5, and 2e-5) on the Dev set.\\nAdditionally, for BERTLARGE we found that fine\\x02tuning was sometimes unstable on small datasets,\\nso we ran several random restarts and selected the\\nbest model on the Dev set. With random restarts,\\nwe use the same pre-trained checkpoint but per\\x02form different fine-tuning data shuffling and clas\\x02sifier layer initialization.9\\nResults are presented in Table 1. Both\\nBERTBASE and BERTLARGE outperform all sys\\x02tems on all tasks by a substantial margin, obtaining\\n4.5% and 7.0% respective average accuracy im\\x02provement over the prior state of the art. Note that\\nBERTBASE and OpenAI GPT are nearly identical\\nin terms of model architecture apart from the at\\x02tention masking. For the largest and most widely\\nreported GLUE task, MNLI, BERT obtains a 4.6%\\nabsolute accuracy improvement. On the official\\nGLUE leaderboard10, BERTLARGE obtains a score\\nof 80.5, compared to OpenAI GPT, which obtains\\n72.8 as of the date of writing.\\nWe find that BERTLARGE significantly outper\\x02forms BERTBASE across all tasks, especially those\\nwith very little training data. The effect of model\\nsize is explored more thoroughly in Section 5.2.\\n4.2 SQuAD v1.1\\nThe Stanford Question Answering Dataset\\n(SQuAD v1.1) is a collection of 100k crowd\\x02sourced question/answer pairs (Rajpurkar et al.,\\n2016). Given a question and a passage from\\n9The GLUE data set distribution does not include the Test\\nlabels, and we only made a single GLUE evaluation server\\nsubmission for each of BERTBASE and BERTLARGE.\\n10https://gluebenchmark.com/leaderboard\\nWikipedia containing the answer, the task is to\\npredict the answer text span in the passage.\\nAs shown in Figure 1, in the question answer\\x02ing task, we represent the input question and pas\\x02sage as a single packed sequence, with the ques\\x02tion using the A embedding and the passage using\\nthe B embedding. We only introduce a start vec\\x02tor S ∈ R\\nH and an end vector E ∈ RH during\\nfine-tuning. The probability of word i being the\\nstart of the answer span is computed as a dot prod\\x02uct between Ti and S followed by a softmax over\\nall of the words in the paragraph: Pi =\\ne\\nS·Ti P\\nj\\ne\\nS·Tj\\n.\\nThe analogous formula is used for the end of the\\nanswer span. The score of a candidate span from\\nposition i to position j is defined as S·Ti + E·Tj ,\\nand the maximum scoring span where j ≥ i is\\nused as a prediction. The training objective is the\\nsum of the log-likelihoods of the correct start and\\nend positions. We fine-tune for 3 epochs with a\\nlearning rate of 5e-5 and a batch size of 32.\\nTable 2 shows top leaderboard entries as well\\nas results from top published systems (Seo et al.,\\n2017; Clark and Gardner, 2018; Peters et al.,\\n2018a; Hu et al., 2018). The top results from the\\nSQuAD leaderboard do not have up-to-date public\\nsystem descriptions available,11 and are allowed to\\nuse any public data when training their systems.\\nWe therefore use modest data augmentation in\\nour system by first fine-tuning on TriviaQA (Joshi\\net al., 2017) befor fine-tuning on SQuAD.\\nOur best performing system outperforms the top\\nleaderboard system by +1.5 F1 in ensembling and\\n+1.3 F1 as a single system. In fact, our single\\nBERT model outperforms the top ensemble sys\\x02tem in terms of F1 score. Without TriviaQA fine\\x0211QANet is described in Yu et al. (2018), but the system\\nhas improved substantially after publication.\\n'),\n",
              " Document(metadata={'title': 'BERT: Pre-training of Deep Bidirectional Transformers for Language Understanding', 'author': 'Jacob Devlin ; Ming-Wei Chang ; Kenton Lee ; Kristina Toutanova', 'subject': 'N19-1 2019', 'keywords': '', 'creator': 'LaTeX with hyperref package', 'producer': 'pdfTeX-1.40.18', 'creationdate': '2019-04-29T17:36:03+00:00', 'moddate': '2019-04-29T17:36:03+00:00', 'source': '/content/N19-1423_BERT.pdf', 'total_pages': 16, 'page': 6}, page_content='4177\\nSystem Dev Test\\nEM F1 EM F1\\nTop Leaderboard Systems (Dec 10th, 2018)\\nHuman - - 82.3 91.2\\n#1 Ensemble - nlnet - - 86.0 91.7\\n#2 Ensemble - QANet - - 84.5 90.5\\nPublished\\nBiDAF+ELMo (Single) - 85.6 - 85.8\\nR.M. Reader (Ensemble) 81.2 87.9 82.3 88.5\\nOurs\\nBERTBASE (Single) 80.8 88.5 - -\\nBERTLARGE (Single) 84.1 90.9 - -\\nBERTLARGE (Ensemble) 85.8 91.8 - -\\nBERTLARGE (Sgl.+TriviaQA) 84.2 91.1 85.1 91.8\\nBERTLARGE (Ens.+TriviaQA) 86.2 92.2 87.4 93.2\\nTable 2: SQuAD 1.1 results. The BERT ensemble\\nis 7x systems which use different pre-training check\\x02points and fine-tuning seeds.\\nSystem Dev Test\\nEM F1 EM F1\\nTop Leaderboard Systems (Dec 10th, 2018)\\nHuman 86.3 89.0 86.9 89.5\\n#1 Single - MIR-MRC (F-Net) - - 74.8 78.0\\n#2 Single - nlnet - - 74.2 77.1\\nPublished\\nunet (Ensemble) - - 71.4 74.9\\nSLQA+ (Single) - 71.4 74.4\\nOurs\\nBERTLARGE (Single) 78.7 81.9 80.0 83.1\\nTable 3: SQuAD 2.0 results. We exclude entries that\\nuse BERT as one of their components.\\ntuning data, we only lose 0.1-0.4 F1, still outper\\x02forming all existing systems by a wide margin.12\\n4.3 SQuAD v2.0\\nThe SQuAD 2.0 task extends the SQuAD 1.1\\nproblem definition by allowing for the possibility\\nthat no short answer exists in the provided para\\x02graph, making the problem more realistic.\\nWe use a simple approach to extend the SQuAD\\nv1.1 BERT model for this task. We treat ques\\x02tions that do not have an answer as having an an\\x02swer span with start and end at the [CLS] to\\x02ken. The probability space for the start and end\\nanswer span positions is extended to include the\\nposition of the [CLS] token. For prediction, we\\ncompare the score of the no-answer span: snull =\\nS·C + E·C to the score of the best non-null span\\n12The TriviaQA data we used consists of paragraphs from\\nTriviaQA-Wiki formed of the first 400 tokens in documents,\\nthat contain at least one of the provided possible answers.\\nSystem Dev Test\\nESIM+GloVe 51.9 52.7\\nESIM+ELMo 59.1 59.2\\nOpenAI GPT - 78.0\\nBERTBASE 81.6 -\\nBERTLARGE 86.6 86.3\\nHuman (expert)†- 85.0\\nHuman (5 annotations)†- 88.0\\nTable 4: SWAG Dev and Test accuracies. †Human per\\x02formance is measured with 100 samples, as reported in\\nthe SWAG paper.\\nsˆi,j = maxj≥iS·Ti + E·Tj . We predict a non-null\\nanswer when sˆi,j > snull + τ , where the thresh\\x02old τ is selected on the dev set to maximize F1.\\nWe did not use TriviaQA data for this model. We\\nfine-tuned for 2 epochs with a learning rate of 5e-5\\nand a batch size of 48.\\nThe results compared to prior leaderboard en\\x02tries and top published work (Sun et al., 2018;\\nWang et al., 2018b) are shown in Table 3, exclud\\x02ing systems that use BERT as one of their com\\x02ponents. We observe a +5.1 F1 improvement over\\nthe previous best system.\\n4.4 SWAG\\nThe Situations With Adversarial Generations\\n(SWAG) dataset contains 113k sentence-pair com\\x02pletion examples that evaluate grounded common\\x02sense inference (Zellers et al., 2018). Given a sen\\x02tence, the task is to choose the most plausible con\\x02tinuation among four choices.\\nWhen fine-tuning on the SWAG dataset, we\\nconstruct four input sequences, each containing\\nthe concatenation of the given sentence (sentence\\nA) and a possible continuation (sentence B). The\\nonly task-specific parameters introduced is a vec\\x02tor whose dot product with the [CLS] token rep\\x02resentation C denotes a score for each choice\\nwhich is normalized with a softmax layer.\\nWe fine-tune the model for 3 epochs with a\\nlearning rate of 2e-5 and a batch size of 16. Re\\x02sults are presented in Table 4. BERTLARGE out\\x02performs the authors’ baseline ESIM+ELMo sys\\x02tem by +27.1% and OpenAI GPT by 8.3%.\\n5 Ablation Studies\\nIn this section, we perform ablation experiments\\nover a number of facets of BERT in order to better\\nunderstand their relative importance. Additional\\n'),\n",
              " Document(metadata={'title': 'BERT: Pre-training of Deep Bidirectional Transformers for Language Understanding', 'author': 'Jacob Devlin ; Ming-Wei Chang ; Kenton Lee ; Kristina Toutanova', 'subject': 'N19-1 2019', 'keywords': '', 'creator': 'LaTeX with hyperref package', 'producer': 'pdfTeX-1.40.18', 'creationdate': '2019-04-29T17:36:03+00:00', 'moddate': '2019-04-29T17:36:03+00:00', 'source': '/content/N19-1423_BERT.pdf', 'total_pages': 16, 'page': 7}, page_content='4178\\nDev Set\\nTasks MNLI-m QNLI MRPC SST-2 SQuAD\\n(Acc) (Acc) (Acc) (Acc) (F1)\\nBERTBASE 84.4 88.4 86.7 92.7 88.5\\nNo NSP 83.9 84.9 86.5 92.6 87.9\\nLTR & No NSP 82.1 84.3 77.5 92.1 77.8\\n+ BiLSTM 82.1 84.1 75.7 91.6 84.9\\nTable 5: Ablation over the pre-training tasks using the\\nBERTBASE architecture. “No NSP” is trained without\\nthe next sentence prediction task. “LTR & No NSP” is\\ntrained as a left-to-right LM without the next sentence\\nprediction, like OpenAI GPT. “+ BiLSTM” adds a ran\\x02domly initialized BiLSTM on top of the “LTR + No\\nNSP” model during fine-tuning.\\nablation studies can be found in Appendix C.\\n5.1 Effect of Pre-training Tasks\\nWe demonstrate the importance of the deep bidi\\x02rectionality of BERT by evaluating two pre\\x02training objectives using exactly the same pre\\x02training data, fine-tuning scheme, and hyperpa\\x02rameters as BERTBASE:\\nNo NSP: A bidirectional model which is trained\\nusing the “masked LM” (MLM) but without the\\n“next sentence prediction” (NSP) task.\\nLTR & No NSP: A left-context-only model which\\nis trained using a standard Left-to-Right (LTR)\\nLM, rather than an MLM. The left-only constraint\\nwas also applied at fine-tuning, because removing\\nit introduced a pre-train/fine-tune mismatch that\\ndegraded downstream performance. Additionally,\\nthis model was pre-trained without the NSP task.\\nThis is directly comparable to OpenAI GPT, but\\nusing our larger training dataset, our input repre\\x02sentation, and our fine-tuning scheme.\\nWe first examine the impact brought by the NSP\\ntask. In Table 5, we show that removing NSP\\nhurts performance significantly on QNLI, MNLI,\\nand SQuAD 1.1. Next, we evaluate the impact\\nof training bidirectional representations by com\\x02paring “No NSP” to “LTR & No NSP”. The LTR\\nmodel performs worse than the MLM model on all\\ntasks, with large drops on MRPC and SQuAD.\\nFor SQuAD it is intuitively clear that a LTR\\nmodel will perform poorly at token predictions,\\nsince the token-level hidden states have no right\\x02side context. In order to make a good faith at\\x02tempt at strengthening the LTR system, we added\\na randomly initialized BiLSTM on top. This does\\nsignificantly improve results on SQuAD, but the\\nresults are still far worse than those of the pre\\x02trained bidirectional models. The BiLSTM hurts\\nperformance on the GLUE tasks.\\nWe recognize that it would also be possible to\\ntrain separate LTR and RTL models and represent\\neach token as the concatenation of the two mod\\x02els, as ELMo does. However: (a) this is twice as\\nexpensive as a single bidirectional model; (b) this\\nis non-intuitive for tasks like QA, since the RTL\\nmodel would not be able to condition the answer\\non the question; (c) this it is strictly less powerful\\nthan a deep bidirectional model, since it can use\\nboth left and right context at every layer.\\n5.2 Effect of Model Size\\nIn this section, we explore the effect of model size\\non fine-tuning task accuracy. We trained a number\\nof BERT models with a differing number of layers,\\nhidden units, and attention heads, while otherwise\\nusing the same hyperparameters and training pro\\x02cedure as described previously.\\nResults on selected GLUE tasks are shown in\\nTable 6. In this table, we report the average Dev\\nSet accuracy from 5 random restarts of fine-tuning.\\nWe can see that larger models lead to a strict ac\\x02curacy improvement across all four datasets, even\\nfor MRPC which only has 3,600 labeled train\\x02ing examples, and is substantially different from\\nthe pre-training tasks. It is also perhaps surpris\\x02ing that we are able to achieve such significant\\nimprovements on top of models which are al\\x02ready quite large relative to the existing literature.\\nFor example, the largest Transformer explored in\\nVaswani et al. (2017) is (L=6, H=1024, A=16)\\nwith 100M parameters for the encoder, and the\\nlargest Transformer we have found in the literature\\nis (L=64, H=512, A=2) with 235M parameters\\n(Al-Rfou et al., 2018). By contrast, BERTBASE\\ncontains 110M parameters and BERTLARGE con\\x02tains 340M parameters.\\nIt has long been known that increasing the\\nmodel size will lead to continual improvements\\non large-scale tasks such as machine translation\\nand language modeling, which is demonstrated\\nby the LM perplexity of held-out training data\\nshown in Table 6. However, we believe that\\nthis is the first work to demonstrate convinc\\x02ingly that scaling to extreme model sizes also\\nleads to large improvements on very small scale\\ntasks, provided that the model has been suffi\\x02ciently pre-trained. Peters et al. (2018b) presented\\n'),\n",
              " Document(metadata={'title': 'BERT: Pre-training of Deep Bidirectional Transformers for Language Understanding', 'author': 'Jacob Devlin ; Ming-Wei Chang ; Kenton Lee ; Kristina Toutanova', 'subject': 'N19-1 2019', 'keywords': '', 'creator': 'LaTeX with hyperref package', 'producer': 'pdfTeX-1.40.18', 'creationdate': '2019-04-29T17:36:03+00:00', 'moddate': '2019-04-29T17:36:03+00:00', 'source': '/content/N19-1423_BERT.pdf', 'total_pages': 16, 'page': 8}, page_content='4179\\nmixed results on the downstream task impact of\\nincreasing the pre-trained bi-LM size from two\\nto four layers and Melamud et al. (2016) men\\x02tioned in passing that increasing hidden dimen\\x02sion size from 200 to 600 helped, but increasing\\nfurther to 1,000 did not bring further improve\\x02ments. Both of these prior works used a feature\\x02based approach — we hypothesize that when the\\nmodel is fine-tuned directly on the downstream\\ntasks and uses only a very small number of ran\\x02domly initialized additional parameters, the task\\x02specific models can benefit from the larger, more\\nexpressive pre-trained representations even when\\ndownstream task data is very small.\\n5.3 Feature-based Approach with BERT\\nAll of the BERT results presented so far have used\\nthe fine-tuning approach, where a simple classifi\\x02cation layer is added to the pre-trained model, and\\nall parameters are jointly fine-tuned on a down\\x02stream task. However, the feature-based approach,\\nwhere fixed features are extracted from the pre\\x02trained model, has certain advantages. First, not\\nall tasks can be easily represented by a Trans\\x02former encoder architecture, and therefore require\\na task-specific model architecture to be added.\\nSecond, there are major computational benefits\\nto pre-compute an expensive representation of the\\ntraining data once and then run many experiments\\nwith cheaper models on top of this representation.\\nIn this section, we compare the two approaches\\nby applying BERT to the CoNLL-2003 Named\\nEntity Recognition (NER) task (Tjong Kim Sang\\nand De Meulder, 2003). In the input to BERT, we\\nuse a case-preserving WordPiece model, and we\\ninclude the maximal document context provided\\nby the data. Following standard practice, we for\\x02mulate this as a tagging task but do not use a CRF\\nHyperparams Dev Set Accuracy\\n#L #H #A LM (ppl) MNLI-m MRPC SST-2\\n3 768 12 5.84 77.9 79.8 88.4\\n6 768 3 5.24 80.6 82.2 90.7\\n6 768 12 4.68 81.9 84.8 91.3\\n12 768 12 3.99 84.4 86.7 92.9\\n12 1024 16 3.54 85.7 86.9 93.3\\n24 1024 16 3.23 86.6 87.8 93.7\\nTable 6: Ablation over BERT model size. #L = the\\nnumber of layers; #H = hidden size; #A = number of at\\x02tention heads. “LM (ppl)” is the masked LM perplexity\\nof held-out training data.\\nSystem Dev F1 Test F1\\nELMo (Peters et al., 2018a) 95.7 92.2\\nCVT (Clark et al., 2018) - 92.6\\nCSE (Akbik et al., 2018) - 93.1\\nFine-tuning approach\\nBERTLARGE 96.6 92.8\\nBERTBASE 96.4 92.4\\nFeature-based approach (BERTBASE)\\nEmbeddings 91.0 -\\nSecond-to-Last Hidden 95.6 -\\nLast Hidden 94.9 -\\nWeighted Sum Last Four Hidden 95.9 -\\nConcat Last Four Hidden 96.1 -\\nWeighted Sum All 12 Layers 95.5 -\\nTable 7: CoNLL-2003 Named Entity Recognition re\\x02sults. Hyperparameters were selected using the Dev\\nset. The reported Dev and Test scores are averaged over\\n5 random restarts using those hyperparameters.\\nlayer in the output. We use the representation of\\nthe first sub-token as the input to the token-level\\nclassifier over the NER label set.\\nTo ablate the fine-tuning approach, we apply the\\nfeature-based approach by extracting the activa\\x02tions from one or more layers without fine-tuning\\nany parameters of BERT. These contextual em\\x02beddings are used as input to a randomly initial\\x02ized two-layer 768-dimensional BiLSTM before\\nthe classification layer.\\nResults are presented in Table 7. BERTLARGE\\nperforms competitively with state-of-the-art meth\\x02ods. The best performing method concatenates the\\ntoken representations from the top four hidden lay\\x02ers of the pre-trained Transformer, which is only\\n0.3 F1 behind fine-tuning the entire model. This\\ndemonstrates that BERT is effective for both fine\\x02tuning and feature-based approaches.\\n6 Conclusion\\nRecent empirical improvements due to transfer\\nlearning with language models have demonstrated\\nthat rich, unsupervised pre-training is an integral\\npart of many language understanding systems. In\\nparticular, these results enable even low-resource\\ntasks to benefit from deep unidirectional architec\\x02tures. Our major contribution is further general\\x02izing these findings to deep bidirectional architec\\x02tures, allowing the same pre-trained model to suc\\x02cessfully tackle a broad set of NLP tasks.\\n'),\n",
              " Document(metadata={'title': 'BERT: Pre-training of Deep Bidirectional Transformers for Language Understanding', 'author': 'Jacob Devlin ; Ming-Wei Chang ; Kenton Lee ; Kristina Toutanova', 'subject': 'N19-1 2019', 'keywords': '', 'creator': 'LaTeX with hyperref package', 'producer': 'pdfTeX-1.40.18', 'creationdate': '2019-04-29T17:36:03+00:00', 'moddate': '2019-04-29T17:36:03+00:00', 'source': '/content/N19-1423_BERT.pdf', 'total_pages': 16, 'page': 9}, page_content='4180\\nReferences\\nAlan Akbik, Duncan Blythe, and Roland Vollgraf.\\n2018. Contextual string embeddings for sequence\\nlabeling. In Proceedings of the 27th International\\nConference on Computational Linguistics, pages\\n1638–1649.\\nRami Al-Rfou, Dokook Choe, Noah Constant, Mandy\\nGuo, and Llion Jones. 2018. Character-level lan\\x02guage modeling with deeper self-attention. arXiv\\npreprint arXiv:1808.04444.\\nRie Kubota Ando and Tong Zhang. 2005. A framework\\nfor learning predictive structures from multiple tasks\\nand unlabeled data. Journal of Machine Learning\\nResearch, 6(Nov):1817–1853.\\nLuisa Bentivogli, Bernardo Magnini, Ido Dagan,\\nHoa Trang Dang, and Danilo Giampiccolo. 2009.\\nThe fifth PASCAL recognizing textual entailment\\nchallenge. In TAC. NIST.\\nJohn Blitzer, Ryan McDonald, and Fernando Pereira.\\n2006. Domain adaptation with structural correspon\\x02dence learning. In Proceedings of the 2006 confer\\x02ence on empirical methods in natural language pro\\x02cessing, pages 120–128. Association for Computa\\x02tional Linguistics.\\nSamuel R. Bowman, Gabor Angeli, Christopher Potts,\\nand Christopher D. Manning. 2015. A large anno\\x02tated corpus for learning natural language inference.\\nIn EMNLP. Association for Computational Linguis\\x02tics.\\nPeter F Brown, Peter V Desouza, Robert L Mercer,\\nVincent J Della Pietra, and Jenifer C Lai. 1992.\\nClass-based n-gram models of natural language.\\nComputational linguistics, 18(4):467–479.\\nDaniel Cer, Mona Diab, Eneko Agirre, Inigo Lopez\\x02Gazpio, and Lucia Specia. 2017. Semeval-2017\\ntask 1: Semantic textual similarity multilingual and\\ncrosslingual focused evaluation. In Proceedings\\nof the 11th International Workshop on Semantic\\nEvaluation (SemEval-2017), pages 1–14, Vancou\\x02ver, Canada. Association for Computational Lin\\x02guistics.\\nCiprian Chelba, Tomas Mikolov, Mike Schuster, Qi Ge,\\nThorsten Brants, Phillipp Koehn, and Tony Robin\\x02son. 2013. One billion word benchmark for measur\\x02ing progress in statistical language modeling. arXiv\\npreprint arXiv:1312.3005.\\nZ. Chen, H. Zhang, X. Zhang, and L. Zhao. 2018.\\nQuora question pairs.\\nChristopher Clark and Matt Gardner. 2018. Simple\\nand effective multi-paragraph reading comprehen\\x02sion. In ACL.\\nKevin Clark, Minh-Thang Luong, Christopher D Man\\x02ning, and Quoc Le. 2018. Semi-supervised se\\x02quence modeling with cross-view training. In Pro\\x02ceedings of the 2018 Conference on Empirical Meth\\x02ods in Natural Language Processing, pages 1914–\\n1925.\\nRonan Collobert and Jason Weston. 2008. A unified\\narchitecture for natural language processing: Deep\\nneural networks with multitask learning. In Pro\\x02ceedings of the 25th international conference on\\nMachine learning, pages 160–167. ACM.\\nAlexis Conneau, Douwe Kiela, Holger Schwenk, Lo¨ıc\\nBarrault, and Antoine Bordes. 2017. Supervised\\nlearning of universal sentence representations from\\nnatural language inference data. In Proceedings of\\nthe 2017 Conference on Empirical Methods in Nat\\x02ural Language Processing, pages 670–680, Copen\\x02hagen, Denmark. Association for Computational\\nLinguistics.\\nAndrew M Dai and Quoc V Le. 2015. Semi-supervised\\nsequence learning. In Advances in neural informa\\x02tion processing systems, pages 3079–3087.\\nJ. Deng, W. Dong, R. Socher, L.-J. Li, K. Li, and L. Fei\\x02Fei. 2009. ImageNet: A Large-Scale Hierarchical\\nImage Database. In CVPR09.\\nWilliam B Dolan and Chris Brockett. 2005. Automati\\x02cally constructing a corpus of sentential paraphrases.\\nIn Proceedings of the Third International Workshop\\non Paraphrasing (IWP2005).\\nWilliam Fedus, Ian Goodfellow, and Andrew M Dai.\\n2018. Maskgan: Better text generation via filling in\\nthe . arXiv preprint arXiv:1801.07736.\\nDan Hendrycks and Kevin Gimpel. 2016. Bridging\\nnonlinearities and stochastic regularizers with gaus\\x02sian error linear units. CoRR, abs/1606.08415.\\nFelix Hill, Kyunghyun Cho, and Anna Korhonen. 2016.\\nLearning distributed representations of sentences\\nfrom unlabelled data. In Proceedings of the 2016\\nConference of the North American Chapter of the\\nAssociation for Computational Linguistics: Human\\nLanguage Technologies. Association for Computa\\x02tional Linguistics.\\nJeremy Howard and Sebastian Ruder. 2018. Universal\\nlanguage model fine-tuning for text classification. In\\nACL. Association for Computational Linguistics.\\nMinghao Hu, Yuxing Peng, Zhen Huang, Xipeng Qiu,\\nFuru Wei, and Ming Zhou. 2018. Reinforced\\nmnemonic reader for machine reading comprehen\\x02sion. In IJCAI.\\nYacine Jernite, Samuel R. Bowman, and David Son\\x02tag. 2017. Discourse-based objectives for fast un\\x02supervised sentence representation learning. CoRR,\\nabs/1705.00557.\\n'),\n",
              " Document(metadata={'title': 'BERT: Pre-training of Deep Bidirectional Transformers for Language Understanding', 'author': 'Jacob Devlin ; Ming-Wei Chang ; Kenton Lee ; Kristina Toutanova', 'subject': 'N19-1 2019', 'keywords': '', 'creator': 'LaTeX with hyperref package', 'producer': 'pdfTeX-1.40.18', 'creationdate': '2019-04-29T17:36:03+00:00', 'moddate': '2019-04-29T17:36:03+00:00', 'source': '/content/N19-1423_BERT.pdf', 'total_pages': 16, 'page': 10}, page_content='4181\\nMandar Joshi, Eunsol Choi, Daniel S Weld, and Luke\\nZettlemoyer. 2017. Triviaqa: A large scale distantly\\nsupervised challenge dataset for reading comprehen\\x02sion. In ACL.\\nRyan Kiros, Yukun Zhu, Ruslan R Salakhutdinov,\\nRichard Zemel, Raquel Urtasun, Antonio Torralba,\\nand Sanja Fidler. 2015. Skip-thought vectors. In\\nAdvances in neural information processing systems,\\npages 3294–3302.\\nQuoc Le and Tomas Mikolov. 2014. Distributed rep\\x02resentations of sentences and documents. In Inter\\x02national Conference on Machine Learning, pages\\n1188–1196.\\nHector J Levesque, Ernest Davis, and Leora Morgen\\x02stern. 2011. The winograd schema challenge. In\\nAaai spring symposium: Logical formalizations of\\ncommonsense reasoning, volume 46, page 47.\\nLajanugen Logeswaran and Honglak Lee. 2018. An\\nefficient framework for learning sentence represen\\x02tations. In International Conference on Learning\\nRepresentations.\\nBryan McCann, James Bradbury, Caiming Xiong, and\\nRichard Socher. 2017. Learned in translation: Con\\x02textualized word vectors. In NIPS.\\nOren Melamud, Jacob Goldberger, and Ido Dagan.\\n2016. context2vec: Learning generic context em\\x02bedding with bidirectional LSTM. In CoNLL.\\nTomas Mikolov, Ilya Sutskever, Kai Chen, Greg S Cor\\x02rado, and Jeff Dean. 2013. Distributed representa\\x02tions of words and phrases and their compositional\\x02ity. In Advances in Neural Information Processing\\nSystems 26, pages 3111–3119. Curran Associates,\\nInc.\\nAndriy Mnih and Geoffrey E Hinton. 2009. A scal\\x02able hierarchical distributed language model. In\\nD. Koller, D. Schuurmans, Y. Bengio, and L. Bot\\x02tou, editors, Advances in Neural Information Pro\\x02cessing Systems 21, pages 1081–1088. Curran As\\x02sociates, Inc.\\nAnkur P Parikh, Oscar Tackstr ¨ om, Dipanjan Das, and ¨\\nJakob Uszkoreit. 2016. A decomposable attention\\nmodel for natural language inference. In EMNLP.\\nJeffrey Pennington, Richard Socher, and Christo\\x02pher D. Manning. 2014. Glove: Global vectors for\\nword representation. In Empirical Methods in Nat\\x02ural Language Processing (EMNLP), pages 1532–\\n1543.\\nMatthew Peters, Waleed Ammar, Chandra Bhagavat\\x02ula, and Russell Power. 2017. Semi-supervised se\\x02quence tagging with bidirectional language models.\\nIn ACL.\\nMatthew Peters, Mark Neumann, Mohit Iyyer, Matt\\nGardner, Christopher Clark, Kenton Lee, and Luke\\nZettlemoyer. 2018a. Deep contextualized word rep\\x02resentations. In NAACL.\\nMatthew Peters, Mark Neumann, Luke Zettlemoyer,\\nand Wen-tau Yih. 2018b. Dissecting contextual\\nword embeddings: Architecture and representation.\\nIn Proceedings of the 2018 Conference on Empiri\\x02cal Methods in Natural Language Processing, pages\\n1499–1509.\\nAlec Radford, Karthik Narasimhan, Tim Salimans, and\\nIlya Sutskever. 2018. Improving language under\\x02standing with unsupervised learning. Technical re\\x02port, OpenAI.\\nPranav Rajpurkar, Jian Zhang, Konstantin Lopyrev, and\\nPercy Liang. 2016. Squad: 100,000+ questions for\\nmachine comprehension of text. In Proceedings of\\nthe 2016 Conference on Empirical Methods in Nat\\x02ural Language Processing, pages 2383–2392.\\nMinjoon Seo, Aniruddha Kembhavi, Ali Farhadi, and\\nHannaneh Hajishirzi. 2017. Bidirectional attention\\nflow for machine comprehension. In ICLR.\\nRichard Socher, Alex Perelygin, Jean Wu, Jason\\nChuang, Christopher D Manning, Andrew Ng, and\\nChristopher Potts. 2013. Recursive deep models\\nfor semantic compositionality over a sentiment tree\\x02bank. In Proceedings of the 2013 conference on\\nempirical methods in natural language processing,\\npages 1631–1642.\\nFu Sun, Linyang Li, Xipeng Qiu, and Yang Liu.\\n2018. U-net: Machine reading comprehension\\nwith unanswerable questions. arXiv preprint\\narXiv:1810.06638.\\nWilson L Taylor. 1953. Cloze procedure: A new\\ntool for measuring readability. Journalism Bulletin,\\n30(4):415–433.\\nErik F Tjong Kim Sang and Fien De Meulder.\\n2003. Introduction to the conll-2003 shared task:\\nLanguage-independent named entity recognition. In\\nCoNLL.\\nJoseph Turian, Lev Ratinov, and Yoshua Bengio. 2010.\\nWord representations: A simple and general method\\nfor semi-supervised learning. In Proceedings of the\\n48th Annual Meeting of the Association for Compu\\x02tational Linguistics, ACL ’10, pages 384–394.\\nAshish Vaswani, Noam Shazeer, Niki Parmar, Jakob\\nUszkoreit, Llion Jones, Aidan N Gomez, Lukasz\\nKaiser, and Illia Polosukhin. 2017. Attention is all\\nyou need. In Advances in Neural Information Pro\\x02cessing Systems, pages 6000–6010.\\nPascal Vincent, Hugo Larochelle, Yoshua Bengio, and\\nPierre-Antoine Manzagol. 2008. Extracting and\\ncomposing robust features with denoising autoen\\x02coders. In Proceedings of the 25th international\\nconference on Machine learning, pages 1096–1103.\\nACM.\\nAlex Wang, Amanpreet Singh, Julian Michael, Fe\\x02lix Hill, Omer Levy, and Samuel Bowman. 2018a.\\nGlue: A multi-task benchmark and analysis platform\\n'),\n",
              " Document(metadata={'title': 'BERT: Pre-training of Deep Bidirectional Transformers for Language Understanding', 'author': 'Jacob Devlin ; Ming-Wei Chang ; Kenton Lee ; Kristina Toutanova', 'subject': 'N19-1 2019', 'keywords': '', 'creator': 'LaTeX with hyperref package', 'producer': 'pdfTeX-1.40.18', 'creationdate': '2019-04-29T17:36:03+00:00', 'moddate': '2019-04-29T17:36:03+00:00', 'source': '/content/N19-1423_BERT.pdf', 'total_pages': 16, 'page': 11}, page_content='4182\\nfor natural language understanding. In Proceedings\\nof the 2018 EMNLP Workshop BlackboxNLP: An\\x02alyzing and Interpreting Neural Networks for NLP,\\npages 353–355.\\nWei Wang, Ming Yan, and Chen Wu. 2018b. Multi\\x02granularity hierarchical attention fusion networks\\nfor reading comprehension and question answering.\\nIn Proceedings of the 56th Annual Meeting of the As\\x02sociation for Computational Linguistics (Volume 1:\\nLong Papers). Association for Computational Lin\\x02guistics.\\nAlex Warstadt, Amanpreet Singh, and Samuel R Bow\\x02man. 2018. Neural network acceptability judg\\x02ments. arXiv preprint arXiv:1805.12471.\\nAdina Williams, Nikita Nangia, and Samuel R Bow\\x02man. 2018. A broad-coverage challenge corpus\\nfor sentence understanding through inference. In\\nNAACL.\\nYonghui Wu, Mike Schuster, Zhifeng Chen, Quoc V\\nLe, Mohammad Norouzi, Wolfgang Macherey,\\nMaxim Krikun, Yuan Cao, Qin Gao, Klaus\\nMacherey, et al. 2016. Google’s neural ma\\x02chine translation system: Bridging the gap between\\nhuman and machine translation. arXiv preprint\\narXiv:1609.08144.\\nJason Yosinski, Jeff Clune, Yoshua Bengio, and Hod\\nLipson. 2014. How transferable are features in deep\\nneural networks? In Advances in neural information\\nprocessing systems, pages 3320–3328.\\nAdams Wei Yu, David Dohan, Minh-Thang Luong, Rui\\nZhao, Kai Chen, Mohammad Norouzi, and Quoc V\\nLe. 2018. QANet: Combining local convolution\\nwith global self-attention for reading comprehen\\x02sion. In ICLR.\\nRowan Zellers, Yonatan Bisk, Roy Schwartz, and Yejin\\nChoi. 2018. Swag: A large-scale adversarial dataset\\nfor grounded commonsense inference. In Proceed\\x02ings of the 2018 Conference on Empirical Methods\\nin Natural Language Processing (EMNLP).\\nYukun Zhu, Ryan Kiros, Rich Zemel, Ruslan Salakhut\\x02dinov, Raquel Urtasun, Antonio Torralba, and Sanja\\nFidler. 2015. Aligning books and movies: Towards\\nstory-like visual explanations by watching movies\\nand reading books. In Proceedings of the IEEE\\ninternational conference on computer vision, pages\\n19–27.\\nAppendix for “BERT: Pre-training of\\nDeep Bidirectional Transformers for\\nLanguage Understanding”\\nWe organize the appendix into three sections:\\n• Additional implementation details for BERT\\nare presented in Appendix A;\\n• Additional details for our experiments are\\npresented in Appendix B; and\\n• Additional ablation studies are presented in\\nAppendix C.\\nWe present additional ablation studies for\\nBERT including:\\n– Effect of Number of Training Steps; and\\n– Ablation for Different Masking Proce\\x02dures.\\nA Additional Details for BERT\\nA.1 Illustration of the Pre-training Tasks\\nWe provide examples of the pre-training tasks in\\nthe following.\\nMasked LM and the Masking Procedure As\\x02suming the unlabeled sentence is my dog is\\nhairy, and during the random masking procedure\\nwe chose the 4-th token (which corresponding to\\nhairy), our masking procedure can be further il\\x02lustrated by\\n• 80% of the time: Replace the word with the\\n[MASK] token, e.g., my dog is hairy →\\nmy dog is [MASK]\\n• 10% of the time: Replace the word with a\\nrandom word, e.g., my dog is hairy → my\\ndog is apple\\n• 10% of the time: Keep the word un\\x02changed, e.g., my dog is hairy → my dog\\nis hairy. The purpose of this is to bias the\\nrepresentation towards the actual observed\\nword.\\nThe advantage of this procedure is that the\\nTransformer encoder does not know which words\\nit will be asked to predict or which have been re\\x02placed by random words, so it is forced to keep\\na distributional contextual representation of ev\\x02ery input token. Additionally, because random\\nreplacement only occurs for 1.5% of all tokens\\n(i.e., 10% of 15%), this does not seem to harm\\nthe model’s language understanding capability. In\\nSection C.2, we evaluate the impact this proce\\x02dure.\\nCompared to standard langauge model training,\\nthe masked LM only make predictions on 15% of\\ntokens in each batch, which suggests that more\\npre-training steps may be required for the model\\n'),\n",
              " Document(metadata={'title': 'BERT: Pre-training of Deep Bidirectional Transformers for Language Understanding', 'author': 'Jacob Devlin ; Ming-Wei Chang ; Kenton Lee ; Kristina Toutanova', 'subject': 'N19-1 2019', 'keywords': '', 'creator': 'LaTeX with hyperref package', 'producer': 'pdfTeX-1.40.18', 'creationdate': '2019-04-29T17:36:03+00:00', 'moddate': '2019-04-29T17:36:03+00:00', 'source': '/content/N19-1423_BERT.pdf', 'total_pages': 16, 'page': 12}, page_content='4183\\nBERT (Ours)\\nTrm Trm Trm\\nTrm Trm Trm\\n...\\n...\\nTrm Trm Trm\\nTrm Trm Trm\\n...\\n...\\nOpenAI GPT\\nLstm\\nELMo\\nLstm Lstm\\nLstm Lstm Lstm\\nLstm Lstm Lstm\\nLstm Lstm Lstm\\n T1 T2\\n TN\\n...\\n...\\n...\\n...\\n...\\n E1 E2\\n EN\\n...\\n T1 T2 TN\\n...\\n E1 E2\\n E ... N\\n T1 T2\\n TN\\n...\\n E1 E2\\n EN\\n...\\nFigure 3: Differences in pre-training model architectures. BERT uses a bidirectional Transformer. OpenAI GPT\\nuses a left-to-right Transformer. ELMo uses the concatenation of independently trained left-to-right and right-to\\x02left LSTMs to generate features for downstream tasks. Among the three, only BERT representations are jointly\\nconditioned on both left and right context in all layers. In addition to the architecture differences, BERT and\\nOpenAI GPT are fine-tuning approaches, while ELMo is a feature-based approach.\\nto converge. In Section C.1 we demonstrate that\\nMLM does converge marginally slower than a left\\x02to-right model (which predicts every token), but\\nthe empirical improvements of the MLM model\\nfar outweigh the increased training cost.\\nNext Sentence Prediction The next sentence\\nprediction task can be illustrated in the following\\nexamples.\\nInput = [CLS] the man went to [MASK] store [SEP]\\nhe bought a gallon [MASK] milk [SEP]\\nLabel = IsNext\\nInput = [CLS] the man [MASK] to the store [SEP]\\npenguin [MASK] are flight ##less birds [SEP]\\nLabel = NotNext\\nA.2 Pre-training Procedure\\nTo generate each training input sequence, we sam\\x02ple two spans of text from the corpus, which we\\nrefer to as “sentences” even though they are typ\\x02ically much longer than single sentences (but can\\nbe shorter also). The first sentence receives the A\\nembedding and the second receives the B embed\\x02ding. 50% of the time B is the actual next sentence\\nthat follows A and 50% of the time it is a random\\nsentence, which is done for the “next sentence pre\\x02diction” task. They are sampled such that the com\\x02bined length is ≤ 512 tokens. The LM masking is\\napplied after WordPiece tokenization with a uni\\x02form masking rate of 15%, and no special consid\\x02eration given to partial word pieces.\\nWe train with batch size of 256 sequences (256\\nsequences * 512 tokens = 128,000 tokens/batch)\\nfor 1,000,000 steps, which is approximately 40\\nepochs over the 3.3 billion word corpus. We\\nuse Adam with learning rate of 1e-4, β1 = 0.9,\\nβ2 = 0.999, L2 weight decay of 0.01, learning\\nrate warmup over the first 10,000 steps, and linear\\ndecay of the learning rate. We use a dropout prob\\x02ability of 0.1 on all layers. We use a gelu acti\\x02vation (Hendrycks and Gimpel, 2016) rather than\\nthe standard relu, following OpenAI GPT. The\\ntraining loss is the sum of the mean masked LM\\nlikelihood and the mean next sentence prediction\\nlikelihood.\\nTraining of BERTBASE was performed on 4\\nCloud TPUs in Pod configuration (16 TPU chips\\ntotal).13 Training of BERTLARGE was performed\\non 16 Cloud TPUs (64 TPU chips total). Each pre\\x02training took 4 days to complete.\\nLonger sequences are disproportionately expen\\x02sive because attention is quadratic to the sequence\\nlength. To speed up pretraing in our experiments,\\nwe pre-train the model with sequence length of\\n128 for 90% of the steps. Then, we train the rest\\n10% of the steps of sequence of 512 to learn the\\npositional embeddings.\\nA.3 Fine-tuning Procedure\\nFor fine-tuning, most model hyperparameters are\\nthe same as in pre-training, with the exception of\\nthe batch size, learning rate, and number of train\\x02ing epochs. The dropout probability was always\\nkept at 0.1. The optimal hyperparameter values\\nare task-specific, but we found the following range\\nof possible values to work well across all tasks:\\n• Batch size: 16, 32\\n13https://cloudplatform.googleblog.com/2018/06/Cloud\\x02TPU-now-offers-preemptible-pricing-and-global\\x02availability.html\\n'),\n",
              " Document(metadata={'title': 'BERT: Pre-training of Deep Bidirectional Transformers for Language Understanding', 'author': 'Jacob Devlin ; Ming-Wei Chang ; Kenton Lee ; Kristina Toutanova', 'subject': 'N19-1 2019', 'keywords': '', 'creator': 'LaTeX with hyperref package', 'producer': 'pdfTeX-1.40.18', 'creationdate': '2019-04-29T17:36:03+00:00', 'moddate': '2019-04-29T17:36:03+00:00', 'source': '/content/N19-1423_BERT.pdf', 'total_pages': 16, 'page': 13}, page_content='4184\\n• Learning rate (Adam): 5e-5, 3e-5, 2e-5\\n• Number of epochs: 2, 3, 4\\nWe also observed that large data sets (e.g.,\\n100k+ labeled training examples) were far less\\nsensitive to hyperparameter choice than small data\\nsets. Fine-tuning is typically very fast, so it is rea\\x02sonable to simply run an exhaustive search over\\nthe above parameters and choose the model that\\nperforms best on the development set.\\nA.4 Comparison of BERT, ELMo ,and\\nOpenAI GPT\\nHere we studies the differences in recent popular\\nrepresentation learning models including ELMo,\\nOpenAI GPT and BERT. The comparisons be\\x02tween the model architectures are shown visually\\nin Figure 3. Note that in addition to the architec\\x02ture differences, BERT and OpenAI GPT are fine\\x02tuning approaches, while ELMo is a feature-based\\napproach.\\nThe most comparable existing pre-training\\nmethod to BERT is OpenAI GPT, which trains a\\nleft-to-right Transformer LM on a large text cor\\x02pus. In fact, many of the design decisions in BERT\\nwere intentionally made to make it as close to\\nGPT as possible so that the two methods could be\\nminimally compared. The core argument of this\\nwork is that the bi-directionality and the two pre\\x02training tasks presented in Section 3.1 account for\\nthe majority of the empirical improvements, but\\nwe do note that there are several other differences\\nbetween how BERT and GPT were trained:\\n• GPT is trained on the BooksCorpus (800M\\nwords); BERT is trained on the BooksCor\\x02pus (800M words) and Wikipedia (2,500M\\nwords).\\n• GPT uses a sentence separator ([SEP]) and\\nclassifier token ([CLS]) which are only in\\x02troduced at fine-tuning time; BERT learns\\n[SEP], [CLS] and sentence A/B embed\\x02dings during pre-training.\\n• GPT was trained for 1M steps with a batch\\nsize of 32,000 words; BERT was trained for\\n1M steps with a batch size of 128,000 words.\\n• GPT used the same learning rate of 5e-5 for\\nall fine-tuning experiments; BERT chooses a\\ntask-specific fine-tuning learning rate which\\nperforms the best on the development set.\\nTo isolate the effect of these differences, we per\\x02form ablation experiments in Section 5.1 which\\ndemonstrate that the majority of the improvements\\nare in fact coming from the two pre-training tasks\\nand the bidirectionality they enable.\\nA.5 Illustrations of Fine-tuning on Different\\nTasks\\nThe illustration of fine-tuning BERT on different\\ntasks can be seen in Figure 4. Our task-specific\\nmodels are formed by incorporating BERT with\\none additional output layer, so a minimal num\\x02ber of parameters need to be learned from scratch.\\nAmong the tasks, (a) and (b) are sequence-level\\ntasks while (c) and (d) are token-level tasks. In\\nthe figure, E represents the input embedding, Ti\\nrepresents the contextual representation of token i,\\n[CLS] is the special symbol for classification out\\x02put, and [SEP] is the special symbol to separate\\nnon-consecutive token sequences.\\nB Detailed Experimental Setup\\nB.1 Detailed Descriptions for the GLUE\\nBenchmark Experiments.\\nThe GLUE benchmark includes the following\\ndatasets, the descriptions of which were originally\\nsummarized in Wang et al. (2018a):\\nMNLI Multi-Genre Natural Language Inference\\nis a large-scale, crowdsourced entailment classifi\\x02cation task (Williams et al., 2018). Given a pair of\\nsentences, the goal is to predict whether the sec\\x02ond sentence is an entailment, contradiction, or\\nneutral with respect to the first one.\\nQQP Quora Question Pairs is a binary classifi\\x02cation task where the goal is to determine if two\\nquestions asked on Quora are semantically equiv\\x02alent (Chen et al., 2018).\\nQNLI Question Natural Language Inference is\\na version of the Stanford Question Answering\\nDataset (Rajpurkar et al., 2016) which has been\\nconverted to a binary classification task (Wang\\net al., 2018a). The positive examples are (ques\\x02tion, sentence) pairs which do contain the correct\\nanswer, and the negative examples are (question,\\nsentence) from the same paragraph which do not\\ncontain the answer.\\nSST-2 The Stanford Sentiment Treebank is a\\nbinary single-sentence classification task consist\\x02ing of sentences extracted from movie reviews\\n'),\n",
              " Document(metadata={'title': 'BERT: Pre-training of Deep Bidirectional Transformers for Language Understanding', 'author': 'Jacob Devlin ; Ming-Wei Chang ; Kenton Lee ; Kristina Toutanova', 'subject': 'N19-1 2019', 'keywords': '', 'creator': 'LaTeX with hyperref package', 'producer': 'pdfTeX-1.40.18', 'creationdate': '2019-04-29T17:36:03+00:00', 'moddate': '2019-04-29T17:36:03+00:00', 'source': '/content/N19-1423_BERT.pdf', 'total_pages': 16, 'page': 14}, page_content='4185\\nBERT\\nE[CLS] E1\\n E[SEP] ... EN\\nE1’ ... EM’\\nC T1 T[SEP] ... TN\\nT1’ ... TM’\\n[CLS] Tok \\n1\\n... [SEP] Tok \\nN\\nTok \\n1\\n... Tok\\nM\\nQuestion Paragraph\\nBERT\\nE[CLS] E1 E2\\n EN\\nC T1 T2\\n TN\\nSingle Sentence \\n...\\n...\\nBERT\\n[CLS] Tok 1 Tok 2 ... Tok N\\nE[CLS] E1 E2\\n EN\\nC T1 T2\\n TN\\nSingle Sentence \\nO B-PER O\\n...\\nE ... [CLS] E1\\n E[SEP]\\nClass \\nLabel\\n... EN\\nE1’ ... EM’\\nC T1 T[SEP] ... TN\\nT1’ ... TM’\\nStart/End Span\\nClass \\nLabel\\nBERT\\n[CLS] Tok [CLS] Tok 1 Tok 2 ... Tok N\\n1\\n... [SEP] Tok \\nN\\nTok \\n1\\n... Tok\\nM\\nSentence 1\\n...\\nSentence 2\\nFigure 4: Illustrations of Fine-tuning BERT on Different Tasks.\\nwith human annotations of their sentiment (Socher\\net al., 2013).\\nCoLA The Corpus of Linguistic Acceptability is\\na binary single-sentence classification task, where\\nthe goal is to predict whether an English sentence\\nis linguistically “acceptable” or not (Warstadt\\net al., 2018).\\nSTS-B The Semantic Textual Similarity Bench\\x02mark is a collection of sentence pairs drawn from\\nnews headlines and other sources (Cer et al.,\\n2017). They were annotated with a score from 1\\nto 5 denoting how similar the two sentences are in\\nterms of semantic meaning.\\nMRPC Microsoft Research Paraphrase Corpus\\nconsists of sentence pairs automatically extracted\\nfrom online news sources, with human annotations\\nfor whether the sentences in the pair are semanti\\x02cally equivalent (Dolan and Brockett, 2005).\\nRTE Recognizing Textual Entailment is a bi\\x02nary entailment task similar to MNLI, but with\\nmuch less training data (Bentivogli et al., 2009).14\\nWNLI Winograd NLI is a small natural lan\\x02guage inference dataset (Levesque et al., 2011).\\nThe GLUE webpage notes that there are issues\\nwith the construction of this dataset, 15 and every\\ntrained system that’s been submitted to GLUE has\\nperformed worse than the 65.1 baseline accuracy\\nof predicting the majority class. We therefore ex\\x02clude this set to be fair to OpenAI GPT. For our\\nGLUE submission, we always predicted the ma\\x02jority class.\\n14Note that we only report single-task fine-tuning results\\nin this paper. A multitask fine-tuning approach could poten\\x02tially push the performance even further. For example, we\\ndid observe substantial improvements on RTE from multi\\x02task training with MNLI.\\n15https://gluebenchmark.com/faq\\n'),\n",
              " Document(metadata={'title': 'BERT: Pre-training of Deep Bidirectional Transformers for Language Understanding', 'author': 'Jacob Devlin ; Ming-Wei Chang ; Kenton Lee ; Kristina Toutanova', 'subject': 'N19-1 2019', 'keywords': '', 'creator': 'LaTeX with hyperref package', 'producer': 'pdfTeX-1.40.18', 'creationdate': '2019-04-29T17:36:03+00:00', 'moddate': '2019-04-29T17:36:03+00:00', 'source': '/content/N19-1423_BERT.pdf', 'total_pages': 16, 'page': 15}, page_content='4186\\nC Additional Ablation Studies\\nC.1 Effect of Number of Training Steps\\nFigure 5 presents MNLI Dev accuracy after fine\\x02tuning from a checkpoint that has been pre-trained\\nfor k steps. This allows us to answer the following\\nquestions:\\n1. Question: Does BERT really need such\\na large amount of pre-training (128,000\\nwords/batch * 1,000,000 steps) to achieve\\nhigh fine-tuning accuracy?\\nAnswer: Yes, BERTBASE achieves almost\\n1.0% additional accuracy on MNLI when\\ntrained on 1M steps compared to 500k steps.\\n2. Question: Does MLM pre-training converge\\nslower than LTR pre-training, since only 15%\\nof words are predicted in each batch rather\\nthan every word?\\nAnswer: The MLM model does converge\\nslightly slower than the LTR model. How\\x02ever, in terms of absolute accuracy the MLM\\nmodel begins to outperform the LTR model\\nalmost immediately.\\nC.2 Ablation for Different Masking\\nProcedures\\nIn Section 3.1, we mention that BERT uses a\\nmixed strategy for masking the target tokens when\\npre-training with the masked language model\\n(MLM) objective. The following is an ablation\\nstudy to evaluate the effect of different masking\\nstrategies.\\nNote that the purpose of the masking strategies\\nis to reduce the mismatch between pre-training\\n200 400 600 800 1,000\\n76\\n78\\n80\\n82\\n84\\nPre-training Steps (Thousands)\\nMNLI Dev Accuracy\\nBERTBASE (Masked LM)\\nBERTBASE (Left-to-Right)\\nFigure 5: Ablation over number of training steps. This\\nshows the MNLI accuracy after fine-tuning, starting\\nfrom model parameters that have been pre-trained for\\nk steps. The x-axis is the value of k.\\nand fine-tuning, as the [MASK] symbol never ap\\x02pears during the fine-tuning stage. We report the\\nDev results for both MNLI and NER. For NER,\\nwe report both fine-tuning and feature-based ap\\x02proaches, as we expect the mismatch will be am\\x02plified for the feature-based approach as the model\\nwill not have the chance to adjust the representa\\x02tions.\\nMasking Rates Dev Set Results\\nMASK SAME RND MNLI NER\\nFine-tune Fine-tune Feature-based\\n80% 10% 10% 84.2 95.4 94.9\\n100% 0% 0% 84.3 94.9 94.0\\n80% 0% 20% 84.1 95.2 94.6\\n80% 20% 0% 84.4 95.2 94.7\\n0% 20% 80% 83.7 94.8 94.6\\n0% 0% 100% 83.6 94.9 94.6\\nTable 8: Ablation over different masking strategies.\\nThe results are presented in Table 8. In the table,\\nMASK means that we replace the target token with\\nthe [MASK] symbol for MLM; SAME means that\\nwe keep the target token as is; RND means that\\nwe replace the target token with another random\\ntoken.\\nThe numbers in the left part of the table repre\\x02sent the probabilities of the specific strategies used\\nduring MLM pre-training (BERT uses 80%, 10%,\\n10%). The right part of the paper represents the\\nDev set results. For the feature-based approach,\\nwe concatenate the last 4 layers of BERT as the\\nfeatures, which was shown to be the best approach\\nin Section 5.3.\\nFrom the table it can be seen that fine-tuning is\\nsurprisingly robust to different masking strategies.\\nHowever, as expected, using only the MASK strat\\x02egy was problematic when applying the feature\\x02based approach to NER. Interestingly, using only\\nthe RND strategy performs much worse than our\\nstrategy as well.\\n')]"
            ]
          },
          "metadata": {},
          "execution_count": 10
        }
      ]
    },
    {
      "cell_type": "markdown",
      "source": [
        "### Document Splitter"
      ],
      "metadata": {
        "id": "WLQ1j_JrOF57"
      }
    },
    {
      "cell_type": "code",
      "source": [
        "from langchain.text_splitter import RecursiveCharacterTextSplitter, CharacterTextSplitter\n",
        "\n",
        "\n",
        "def chunk_data(docs, chunk_size=1000, chunk_overlap=200):\n",
        "    text_splitter=RecursiveCharacterTextSplitter(chunk_size=chunk_size,\n",
        "                                                 chunk_overlap=chunk_overlap)\n",
        "    pdf=text_splitter.split_documents(docs)\n",
        "    return pdf"
      ],
      "metadata": {
        "id": "HHQlclU9awwa"
      },
      "execution_count": 11,
      "outputs": []
    },
    {
      "cell_type": "code",
      "source": [
        "pdf_doc=chunk_data(docs=pdf)\n",
        "len(pdf_doc) # 83 chunks in total"
      ],
      "metadata": {
        "id": "NaQV6XRwawpf",
        "colab": {
          "base_uri": "https://localhost:8080/"
        },
        "outputId": "35d7ee4e-fe9f-4286-91b0-432e7b448a2d"
      },
      "execution_count": 12,
      "outputs": [
        {
          "output_type": "execute_result",
          "data": {
            "text/plain": [
              "83"
            ]
          },
          "metadata": {},
          "execution_count": 12
        }
      ]
    },
    {
      "cell_type": "markdown",
      "source": [
        "### 1. Creating A Embedding Model\n",
        "### 2. Convert the Each Chunk of The Split Document to Embedding Vectors\n",
        "### 3. Storing of The Embedding Vectors to Vectorstore\n",
        "### 4. Save the Vectorstore to Your Drive"
      ],
      "metadata": {
        "id": "4ENim_5MOT9O"
      }
    },
    {
      "cell_type": "code",
      "source": [
        "from langchain_openai import OpenAIEmbeddings\n",
        "\n",
        "embeddings=OpenAIEmbeddings(model=\"text-embedding-3-large\",\n",
        "                            dimensions=3072) #dimensions=256, 1024, 3072\n",
        "embeddings"
      ],
      "metadata": {
        "id": "96nLFF1ja0k_",
        "colab": {
          "base_uri": "https://localhost:8080/"
        },
        "outputId": "554761d6-74e4-4f5f-9744-31f9e98d43d8"
      },
      "execution_count": 13,
      "outputs": [
        {
          "output_type": "execute_result",
          "data": {
            "text/plain": [
              "OpenAIEmbeddings(client=<openai.resources.embeddings.Embeddings object at 0x7f1cf17e2690>, async_client=<openai.resources.embeddings.AsyncEmbeddings object at 0x7f1cf17fc450>, model='text-embedding-3-large', dimensions=3072, deployment='text-embedding-ada-002', openai_api_version=None, openai_api_base=None, openai_api_type=None, openai_proxy=None, embedding_ctx_length=8191, openai_api_key=SecretStr('**********'), openai_organization=None, allowed_special=None, disallowed_special=None, chunk_size=1000, max_retries=2, request_timeout=None, headers=None, tiktoken_enabled=True, tiktoken_model_name=None, show_progress_bar=False, model_kwargs={}, skip_empty=False, default_headers=None, default_query=None, retry_min_seconds=4, retry_max_seconds=20, http_client=None, http_async_client=None, check_embedding_ctx_length=True)"
            ]
          },
          "metadata": {},
          "execution_count": 13
        }
      ]
    },
    {
      "cell_type": "code",
      "source": [
        "text = \"This is a test document.\""
      ],
      "metadata": {
        "id": "VqZ7XBwoa0ee"
      },
      "execution_count": 14,
      "outputs": []
    },
    {
      "cell_type": "code",
      "source": [
        "doc_result = embeddings.embed_documents([text])"
      ],
      "metadata": {
        "id": "SsYtZKhC58Eb"
      },
      "execution_count": 15,
      "outputs": []
    },
    {
      "cell_type": "code",
      "source": [
        "doc_result[0][:5]"
      ],
      "metadata": {
        "colab": {
          "base_uri": "https://localhost:8080/"
        },
        "id": "9iejKO6Q6Alo",
        "outputId": "46c28046-e73d-4a38-e004-a6c0341eb7a1"
      },
      "execution_count": 16,
      "outputs": [
        {
          "output_type": "execute_result",
          "data": {
            "text/plain": [
              "[-0.014371239580214024,\n",
              " -0.027192281559109688,\n",
              " -0.020024899393320084,\n",
              " 0.05730258300900459,\n",
              " -0.022304601967334747]"
            ]
          },
          "metadata": {},
          "execution_count": 16
        }
      ]
    },
    {
      "cell_type": "code",
      "source": [
        "len(doc_result[0])"
      ],
      "metadata": {
        "colab": {
          "base_uri": "https://localhost:8080/"
        },
        "id": "JBaY_CIk6Dpu",
        "outputId": "6f07cbec-0f55-4ea2-fdb4-5e45ecaf7ce2"
      },
      "execution_count": 17,
      "outputs": [
        {
          "output_type": "execute_result",
          "data": {
            "text/plain": [
              "3072"
            ]
          },
          "metadata": {},
          "execution_count": 17
        }
      ]
    },
    {
      "cell_type": "markdown",
      "source": [
        "### Load Vectorstore(index) From Your Drive"
      ],
      "metadata": {
        "id": "y2tMqUthPchD"
      }
    },
    {
      "cell_type": "code",
      "source": [
        "from langchain_chroma import Chroma\n",
        "\n",
        "# Define a persistent directory for Chroma to save data\n",
        "persist_directory = \"/content/drive/MyDrive/chroma_store\"\n",
        "\n",
        "index=Chroma.from_documents(documents=pdf_doc,\n",
        "                            embedding=embeddings,\n",
        "                            persist_directory=persist_directory) # persist_directory, saves in the directory\n",
        "\n",
        "retriever=index.as_retriever()"
      ],
      "metadata": {
        "id": "5pjKXmO6a3En"
      },
      "execution_count": 18,
      "outputs": []
    },
    {
      "cell_type": "code",
      "source": [
        "retriever=index.as_retriever(search_kwargs={\"k\": 4})"
      ],
      "metadata": {
        "id": "AXQwX35ha282"
      },
      "execution_count": 19,
      "outputs": []
    },
    {
      "cell_type": "code",
      "source": [
        "loaded_index=Chroma(persist_directory=persist_directory,\n",
        "                    embedding_function=embeddings)"
      ],
      "metadata": {
        "id": "pbv9xOXt8vXi"
      },
      "execution_count": 20,
      "outputs": []
    },
    {
      "cell_type": "code",
      "source": [
        "load_retriver=loaded_index.as_retriever(search_kwargs={\"k\": 4})"
      ],
      "metadata": {
        "id": "rp4HTVv98yVr"
      },
      "execution_count": 21,
      "outputs": []
    },
    {
      "cell_type": "markdown",
      "source": [
        "### Retrival the First 5 Chunks That Are Most Similar to The User Query from The Document"
      ],
      "metadata": {
        "id": "pKA0PgNJQOmj"
      }
    },
    {
      "cell_type": "code",
      "source": [
        "def retrieve_query(query,k=5):\n",
        "    retriever=index.as_retriever(search_kwargs={\"k\": k}) #loaded_index\n",
        "    return retriever.invoke(query)\n"
      ],
      "metadata": {
        "id": "KRH-FWEua5Fn"
      },
      "execution_count": 22,
      "outputs": []
    },
    {
      "cell_type": "code",
      "source": [
        "our_query = \"What are transformers?\"\n",
        "\n",
        "doc_search=retrieve_query(our_query, k=5) # first two most similar texts are returned\n",
        "doc_search"
      ],
      "metadata": {
        "id": "80TWdFk6a4-3",
        "colab": {
          "base_uri": "https://localhost:8080/"
        },
        "outputId": "c8ad7ae9-3f61-47a8-f98a-8e357edb18d1"
      },
      "execution_count": 23,
      "outputs": [
        {
          "output_type": "execute_result",
          "data": {
            "text/plain": [
              "[Document(id='d579bf9c-148a-44cf-b91b-5d8b45a97325', metadata={'author': 'Jacob Devlin ; Ming-Wei Chang ; Kenton Lee ; Kristina Toutanova', 'creationdate': '2019-04-29T17:36:03+00:00', 'creator': 'LaTeX with hyperref package', 'keywords': '', 'moddate': '2019-04-29T17:36:03+00:00', 'page': 2, 'producer': 'pdfTeX-1.40.18', 'source': '/content/N19-1423_BERT.pdf', 'subject': 'N19-1 2019', 'title': 'BERT: Pre-training of Deep Bidirectional Transformers for Language Understanding', 'total_pages': 16}, page_content='the tensor2tensor library.1 Because the use\\nof Transformers has become common and our im\\x02plementation is almost identical to the original,\\nwe will omit an exhaustive background descrip\\x02tion of the model architecture and refer readers to\\nVaswani et al. (2017) as well as excellent guides\\nsuch as “The Annotated Transformer.”2\\nIn this work, we denote the number of layers\\n(i.e., Transformer blocks) as L, the hidden size as\\nH, and the number of self-attention heads as A.\\n3\\nWe primarily report results on two model sizes:\\nBERTBASE (L=12, H=768, A=12, Total Param\\x02eters=110M) and BERTLARGE (L=24, H=1024,\\nA=16, Total Parameters=340M).\\nBERTBASE was chosen to have the same model\\nsize as OpenAI GPT for comparison purposes.\\nCritically, however, the BERT Transformer uses\\nbidirectional self-attention, while the GPT Trans\\x02former uses constrained self-attention where every\\ntoken can only attend to context to its left.4\\n1\\nhttps://github.com/tensorflow/tensor2tensor\\n2'),\n",
              " Document(id='0ae5dd62-a3f8-4b8c-ad93-2ef2ba54b2d0', metadata={'author': 'Jacob Devlin ; Ming-Wei Chang ; Kenton Lee ; Kristina Toutanova', 'creationdate': '2019-04-29T17:36:03+00:00', 'creator': 'LaTeX with hyperref package', 'keywords': '', 'moddate': '2019-04-29T17:36:03+00:00', 'page': 2, 'producer': 'pdfTeX-1.40.18', 'source': '/content/N19-1423_BERT.pdf', 'subject': 'N19-1 2019', 'title': 'BERT: Pre-training of Deep Bidirectional Transformers for Language Understanding', 'total_pages': 16}, page_content='the tensor2tensor library.1 Because the use\\nof Transformers has become common and our im\\x02plementation is almost identical to the original,\\nwe will omit an exhaustive background descrip\\x02tion of the model architecture and refer readers to\\nVaswani et al. (2017) as well as excellent guides\\nsuch as “The Annotated Transformer.”2\\nIn this work, we denote the number of layers\\n(i.e., Transformer blocks) as L, the hidden size as\\nH, and the number of self-attention heads as A.\\n3\\nWe primarily report results on two model sizes:\\nBERTBASE (L=12, H=768, A=12, Total Param\\x02eters=110M) and BERTLARGE (L=24, H=1024,\\nA=16, Total Parameters=340M).\\nBERTBASE was chosen to have the same model\\nsize as OpenAI GPT for comparison purposes.\\nCritically, however, the BERT Transformer uses\\nbidirectional self-attention, while the GPT Trans\\x02former uses constrained self-attention where every\\ntoken can only attend to context to its left.4\\n1\\nhttps://github.com/tensorflow/tensor2tensor\\n2'),\n",
              " Document(id='bc53e80e-ba0d-4b17-b3be-7deb02fbbac2', metadata={'author': 'Jacob Devlin ; Ming-Wei Chang ; Kenton Lee ; Kristina Toutanova', 'creationdate': '2019-04-29T17:36:03+00:00', 'creator': 'LaTeX with hyperref package', 'keywords': '', 'moddate': '2019-04-29T17:36:03+00:00', 'page': 2, 'producer': 'pdfTeX-1.40.18', 'source': '/content/N19-1423_BERT.pdf', 'subject': 'N19-1 2019', 'title': 'BERT: Pre-training of Deep Bidirectional Transformers for Language Understanding', 'total_pages': 16}, page_content='the tensor2tensor library.1 Because the use\\nof Transformers has become common and our im\\x02plementation is almost identical to the original,\\nwe will omit an exhaustive background descrip\\x02tion of the model architecture and refer readers to\\nVaswani et al. (2017) as well as excellent guides\\nsuch as “The Annotated Transformer.”2\\nIn this work, we denote the number of layers\\n(i.e., Transformer blocks) as L, the hidden size as\\nH, and the number of self-attention heads as A.\\n3\\nWe primarily report results on two model sizes:\\nBERTBASE (L=12, H=768, A=12, Total Param\\x02eters=110M) and BERTLARGE (L=24, H=1024,\\nA=16, Total Parameters=340M).\\nBERTBASE was chosen to have the same model\\nsize as OpenAI GPT for comparison purposes.\\nCritically, however, the BERT Transformer uses\\nbidirectional self-attention, while the GPT Trans\\x02former uses constrained self-attention where every\\ntoken can only attend to context to its left.4\\n1\\nhttps://github.com/tensorflow/tensor2tensor\\n2'),\n",
              " Document(id='e57dd9a3-8e24-4f04-91a4-7aa78ebdad6b', metadata={'author': 'Jacob Devlin ; Ming-Wei Chang ; Kenton Lee ; Kristina Toutanova', 'creationdate': '2019-04-29T17:36:03+00:00', 'creator': 'LaTeX with hyperref package', 'keywords': '', 'moddate': '2019-04-29T17:36:03+00:00', 'page': 2, 'producer': 'pdfTeX-1.40.18', 'source': '/content/N19-1423_BERT.pdf', 'subject': 'N19-1 2019', 'title': 'BERT: Pre-training of Deep Bidirectional Transformers for Language Understanding', 'total_pages': 16}, page_content='the tensor2tensor library.1 Because the use\\nof Transformers has become common and our im\\x02plementation is almost identical to the original,\\nwe will omit an exhaustive background descrip\\x02tion of the model architecture and refer readers to\\nVaswani et al. (2017) as well as excellent guides\\nsuch as “The Annotated Transformer.”2\\nIn this work, we denote the number of layers\\n(i.e., Transformer blocks) as L, the hidden size as\\nH, and the number of self-attention heads as A.\\n3\\nWe primarily report results on two model sizes:\\nBERTBASE (L=12, H=768, A=12, Total Param\\x02eters=110M) and BERTLARGE (L=24, H=1024,\\nA=16, Total Parameters=340M).\\nBERTBASE was chosen to have the same model\\nsize as OpenAI GPT for comparison purposes.\\nCritically, however, the BERT Transformer uses\\nbidirectional self-attention, while the GPT Trans\\x02former uses constrained self-attention where every\\ntoken can only attend to context to its left.4\\n1\\nhttps://github.com/tensorflow/tensor2tensor\\n2'),\n",
              " Document(id='809fd8a9-9f53-4090-8aec-5d04a32cdd64', metadata={'author': 'Jacob Devlin ; Ming-Wei Chang ; Kenton Lee ; Kristina Toutanova', 'creationdate': '2019-04-29T17:36:03+00:00', 'creator': 'LaTeX with hyperref package', 'keywords': '', 'moddate': '2019-04-29T17:36:03+00:00', 'page': 2, 'producer': 'pdfTeX-1.40.18', 'source': '/content/N19-1423_BERT.pdf', 'subject': 'N19-1 2019', 'title': 'BERT: Pre-training of Deep Bidirectional Transformers for Language Understanding', 'total_pages': 16}, page_content='bidirectional self-attention, while the GPT Trans\\x02former uses constrained self-attention where every\\ntoken can only attend to context to its left.4\\n1\\nhttps://github.com/tensorflow/tensor2tensor\\n2\\nhttp://nlp.seas.harvard.edu/2018/04/03/attention.html\\n3\\nIn all cases we set the feed-forward/filter size to be 4H,\\ni.e., 3072 for the H = 768 and 4096 for the H = 1024.\\n4We note that in the literature the bidirectional Trans-')]"
            ]
          },
          "metadata": {},
          "execution_count": 23
        }
      ]
    },
    {
      "cell_type": "markdown",
      "source": [
        "### Generating an Answer Based on The Similar Chunks"
      ],
      "metadata": {
        "id": "-G8R4V7BROkz"
      }
    },
    {
      "cell_type": "code",
      "source": [
        "from langchain.prompts import PromptTemplate, ChatPromptTemplate\n",
        "\n",
        "template=\"\"\"Use the following pieces of context to answer the user's question of \"{question}\".\n",
        "If you don't know the answer, just say that you don't know, don't try to make up an answer.\n",
        "----------------\n",
        "\"{context}\" \"\"\"\n",
        "\n",
        "prompt_template = PromptTemplate(\n",
        "    input_variables =['question','context'],\n",
        "    template = template\n",
        ")"
      ],
      "metadata": {
        "id": "XNDU0jcma7HB"
      },
      "execution_count": 24,
      "outputs": []
    },
    {
      "cell_type": "code",
      "source": [
        "our_query = \"What are transformers?\""
      ],
      "metadata": {
        "id": "aUnTIxSoa6_y"
      },
      "execution_count": 25,
      "outputs": []
    },
    {
      "cell_type": "code",
      "source": [
        "from langchain_openai import ChatOpenAI\n",
        "from langchain_core.output_parsers import StrOutputParser\n",
        "\n",
        "llm=ChatOpenAI(model_name=\"gpt-4o-mini\",\n",
        "               temperature=0,\n",
        "               top_p=1)\n",
        "\n",
        "chain = prompt_template | llm | StrOutputParser()\n",
        "\n",
        "output= chain.invoke({\"question\":our_query, \"context\":doc_search}) # first 5 most similar texts are returned\n",
        "output"
      ],
      "metadata": {
        "colab": {
          "base_uri": "https://localhost:8080/",
          "height": 125
        },
        "id": "3RmjQesH9n0y",
        "outputId": "f16dafb2-3a31-4b78-c867-ba701a98c08d"
      },
      "execution_count": 26,
      "outputs": [
        {
          "output_type": "execute_result",
          "data": {
            "text/plain": [
              "'Transformers are a type of model architecture used in natural language processing and other tasks. They utilize mechanisms such as self-attention to process input data in parallel, allowing for more efficient training and better handling of long-range dependencies in sequences. The original Transformer model was introduced by Vaswani et al. in 2017, and it has since become a foundational architecture for many state-of-the-art models, including BERT and GPT. BERT, for example, employs bidirectional self-attention, enabling it to consider context from both directions in a sequence, while GPT uses a constrained form of self-attention that only allows tokens to attend to preceding context.'"
            ],
            "application/vnd.google.colaboratory.intrinsic+json": {
              "type": "string"
            }
          },
          "metadata": {},
          "execution_count": 26
        }
      ]
    },
    {
      "cell_type": "code",
      "source": [
        "from IPython.display import Markdown\n",
        "\n",
        "Markdown(output)"
      ],
      "metadata": {
        "colab": {
          "base_uri": "https://localhost:8080/",
          "height": 116
        },
        "id": "Cj2oJQWo9tw2",
        "outputId": "6f725afa-40cc-4676-d697-b427dcec4122"
      },
      "execution_count": 27,
      "outputs": [
        {
          "output_type": "execute_result",
          "data": {
            "text/plain": [
              "<IPython.core.display.Markdown object>"
            ],
            "text/markdown": "Transformers are a type of model architecture used in natural language processing and other tasks. They utilize mechanisms such as self-attention to process input data in parallel, allowing for more efficient training and better handling of long-range dependencies in sequences. The original Transformer model was introduced by Vaswani et al. in 2017, and it has since become a foundational architecture for many state-of-the-art models, including BERT and GPT. BERT, for example, employs bidirectional self-attention, enabling it to consider context from both directions in a sequence, while GPT uses a constrained form of self-attention that only allows tokens to attend to preceding context."
          },
          "metadata": {},
          "execution_count": 27
        }
      ]
    },
    {
      "cell_type": "markdown",
      "source": [
        "### Pipeline For RAG"
      ],
      "metadata": {
        "id": "sy4fmzsWLayT"
      }
    },
    {
      "cell_type": "code",
      "source": [
        "from langchain.chains import create_retrieval_chain\n",
        "from langchain.chains.combine_documents import create_stuff_documents_chain\n",
        "from langchain_core.prompts import PromptTemplate\n",
        "from langchain_core.language_models import BaseLanguageModel\n",
        "from langchain_core.vectorstores import VectorStore"
      ],
      "metadata": {
        "id": "jqkDK3OUraWi"
      },
      "execution_count": 28,
      "outputs": []
    },
    {
      "cell_type": "code",
      "source": [
        "def ask_with_rag(question: str, llm: BaseLanguageModel, vectorstore: VectorStore) -> str:\n",
        "    \"\"\"\n",
        "    Answers a question using a Retrieval-Augmented Generation (RAG) approach.\n",
        "\n",
        "    Args:\n",
        "        question (str): The question to answer.\n",
        "        llm (BaseLanguageModel): The language model to use.\n",
        "        vectorstore (VectorStore): The vector store for document retrieval.\n",
        "\n",
        "    Returns:\n",
        "        str: The generated answer.\n",
        "    \"\"\"\n",
        "    # Create a retriever from the vectorstore\n",
        "    retriever = vectorstore.as_retriever()\n",
        "\n",
        "    # Define the prompt template\n",
        "    prompt_template = PromptTemplate.from_template(\"\"\"\n",
        "    Answer the question based only on the following context:\n",
        "    {context}\n",
        "\n",
        "    Question: {input}\n",
        "    \"\"\")\n",
        "\n",
        "    # Create the document combination chain\n",
        "    combine_docs_chain = create_stuff_documents_chain(llm, prompt_template)\n",
        "\n",
        "    # Create the retrieval chain\n",
        "    retrieval_chain = create_retrieval_chain(retriever, combine_docs_chain)\n",
        "\n",
        "    # Invoke the chain with the input question\n",
        "    response = retrieval_chain.invoke({\"input\": question})\n",
        "\n",
        "    return response[\"answer\"]\n"
      ],
      "metadata": {
        "id": "VNXHUYgUrYby"
      },
      "execution_count": 29,
      "outputs": []
    },
    {
      "cell_type": "code",
      "source": [
        "# Assuming llm and vectorstore are already initialized\n",
        "question = \"What are the key benefits of using BERT in NLP tasks?\"\n",
        "answer = ask_with_rag(question, llm, loaded_index)\n",
        "print(\"Answer:\", answer)"
      ],
      "metadata": {
        "colab": {
          "base_uri": "https://localhost:8080/"
        },
        "id": "auho9toGrxKF",
        "outputId": "154c5546-f86f-4c0b-debd-9e1ed0cc2c8a"
      },
      "execution_count": 30,
      "outputs": [
        {
          "output_type": "stream",
          "name": "stdout",
          "text": [
            "Answer: The key benefits of using BERT in NLP tasks include:\n",
            "\n",
            "1. **State-of-the-Art Performance**: BERT achieves new state-of-the-art results on eleven natural language processing tasks, significantly improving scores on benchmarks such as GLUE, MultiNLI, and SQuAD.\n",
            "\n",
            "2. **Conceptual Simplicity**: BERT is designed to be conceptually simple, making it easier to understand and implement.\n",
            "\n",
            "3. **Empirical Power**: BERT demonstrates strong empirical performance, with substantial improvements in various metrics, such as a 7.7% absolute improvement in the GLUE score and a 5.1 point absolute improvement in SQuAD v2.0 Test F1.\n",
            "\n",
            "4. **Versatility**: BERT can be applied to a wide range of tasks, including question answering and language inference, without the need for substantial task-specific architecture modifications.\n",
            "\n",
            "5. **Effectiveness of Pre-Training**: The model leverages language model pre-training, which has been shown to enhance performance across many NLP tasks.\n"
          ]
        }
      ]
    },
    {
      "cell_type": "code",
      "source": [
        "Markdown(answer)"
      ],
      "metadata": {
        "colab": {
          "base_uri": "https://localhost:8080/",
          "height": 231
        },
        "id": "2fLGrkomJDYR",
        "outputId": "c6b5f4a3-e2bd-4e41-9056-0165d5de5785"
      },
      "execution_count": 31,
      "outputs": [
        {
          "output_type": "execute_result",
          "data": {
            "text/plain": [
              "<IPython.core.display.Markdown object>"
            ],
            "text/markdown": "The key benefits of using BERT in NLP tasks include:\n\n1. **State-of-the-Art Performance**: BERT achieves new state-of-the-art results on eleven natural language processing tasks, significantly improving scores on benchmarks such as GLUE, MultiNLI, and SQuAD.\n\n2. **Conceptual Simplicity**: BERT is designed to be conceptually simple, making it easier to understand and implement.\n\n3. **Empirical Power**: BERT demonstrates strong empirical performance, with substantial improvements in various metrics, such as a 7.7% absolute improvement in the GLUE score and a 5.1 point absolute improvement in SQuAD v2.0 Test F1.\n\n4. **Versatility**: BERT can be applied to a wide range of tasks, including question answering and language inference, without the need for substantial task-specific architecture modifications.\n\n5. **Effectiveness of Pre-Training**: The model leverages language model pre-training, which has been shown to enhance performance across many NLP tasks."
          },
          "metadata": {},
          "execution_count": 31
        }
      ]
    },
    {
      "cell_type": "markdown",
      "source": [
        "## Project 2: Generating PDF Document Summaries\n",
        "\n",
        "In this project, you will explore various methods for creating summaries from the provided PDF document. You will experiment with different chaining functions offered by the Langchain library to achieve this.\n",
        "\n",
        "### **Project Steps:**\n",
        "- **1.PDF Document Upload and Chunking:** As in the first project, upload the PDF document and divide it into smaller chunks. Consider splitting it by half-page or page.\n",
        "\n",
        "- **2.Summarization Techniques:**\n",
        "\n",
        "  - **Summary of the First 5 Pages (Stuff Chain):** Utilize the load_summarize_chain function with the parameter chain_type=\"stuff\" to generate a concise summary of the first 5 pages of the PDF document.\n",
        "\n",
        "  - **Short Summary of the Entire Document (Map Reduce Chain):** Employ chain_type=\"map_reduce\" and refine parameters to create a brief summary of the entire document. This method generates individual summaries for each chunk and then combines them into a final summary.\n",
        "\n",
        "  - **Detailed Summary with Bullet Points (Map Reduce Chain):** Use chain_type=\"map_reduce\" to generate a detailed summary with at least 1000 tokens. Provide the LLM with the prompt \"Summarize with 1000 tokens\" and set the max_token parameter to a value greater than 1000. Add a title to the summary and present key points using bullet points.\n",
        "\n",
        "### Important Notes:\n",
        "\n",
        "- Models like GPT-4o and Gemini Pro models might excel in generating summaries based on token count. Consider prioritizing these models.\n",
        "\n",
        "- For comprehensive information on Langchain and LLMs, refer to their respective documentation.\n",
        "Best of luck!"
      ],
      "metadata": {
        "id": "H9GmKlL2NRff"
      }
    },
    {
      "cell_type": "markdown",
      "source": [
        "### Install Libraries"
      ],
      "metadata": {
        "id": "WhjLe0IqRnl4"
      }
    },
    {
      "cell_type": "code",
      "source": [
        "!pip install -qU langchain-openai"
      ],
      "metadata": {
        "id": "ZXdV8CcqbFrW"
      },
      "execution_count": 32,
      "outputs": []
    },
    {
      "cell_type": "code",
      "source": [
        "!pip install -qU langchain-community"
      ],
      "metadata": {
        "id": "rcFsXQwCbFkm"
      },
      "execution_count": 33,
      "outputs": []
    },
    {
      "cell_type": "code",
      "source": [
        "!pip install -qU pypdfium2"
      ],
      "metadata": {
        "id": "LUHAMuhgJ2bu"
      },
      "execution_count": 34,
      "outputs": []
    },
    {
      "cell_type": "markdown",
      "source": [
        "### Loading PDF Document"
      ],
      "metadata": {
        "id": "yqImlx_IRqQS"
      }
    },
    {
      "cell_type": "code",
      "source": [
        "from langchain_community.document_loaders import PyPDFium2Loader\n",
        "\n",
        "def read_doc(directory):\n",
        "    file_loader=PyPDFium2Loader(directory)\n",
        "    pdf_documents=file_loader.load()\n",
        "    return pdf_documents"
      ],
      "metadata": {
        "id": "CCkT3msfbH_n"
      },
      "execution_count": 35,
      "outputs": []
    },
    {
      "cell_type": "code",
      "source": [
        "pdf=read_doc('/content/N19-1423_BERT.pdf')\n",
        "len(pdf)\n"
      ],
      "metadata": {
        "id": "5a_FpBOcbHzP",
        "colab": {
          "base_uri": "https://localhost:8080/"
        },
        "outputId": "9d4c7123-7486-4892-daa5-00b3bddee30d"
      },
      "execution_count": 36,
      "outputs": [
        {
          "output_type": "stream",
          "name": "stderr",
          "text": [
            "/usr/local/lib/python3.11/dist-packages/pypdfium2/_helpers/textpage.py:80: UserWarning: get_text_range() call with default params will be implicitly redirected to get_text_bounded()\n",
            "  warnings.warn(\"get_text_range() call with default params will be implicitly redirected to get_text_bounded()\")\n"
          ]
        },
        {
          "output_type": "execute_result",
          "data": {
            "text/plain": [
              "16"
            ]
          },
          "metadata": {},
          "execution_count": 36
        }
      ]
    },
    {
      "cell_type": "markdown",
      "source": [
        "### Summarizing the First 5 Pages of The Document With Chain_Type of The 'stuff'"
      ],
      "metadata": {
        "id": "LuyT0IoWR4n8"
      }
    },
    {
      "cell_type": "code",
      "source": [
        "from langchain_openai import ChatOpenAI\n",
        "from langchain.chains.summarize import load_summarize_chain\n",
        "\n",
        "llm = ChatOpenAI(temperature=0,\n",
        "                 model_name='gpt-4o-mini',\n",
        "                 max_tokens=1024)"
      ],
      "metadata": {
        "id": "O3yAnW3PbKIX"
      },
      "execution_count": 37,
      "outputs": []
    },
    {
      "cell_type": "code",
      "source": [
        "pdf_5pg = pdf[:5] #The first 5 pages\n",
        "\n",
        "pdf_5pg"
      ],
      "metadata": {
        "colab": {
          "base_uri": "https://localhost:8080/"
        },
        "id": "fPneXrazEn6R",
        "outputId": "6ba47ef4-d504-4d6f-8217-953acfef0653"
      },
      "execution_count": 38,
      "outputs": [
        {
          "output_type": "execute_result",
          "data": {
            "text/plain": [
              "[Document(metadata={'title': 'BERT: Pre-training of Deep Bidirectional Transformers for Language Understanding', 'author': 'Jacob Devlin ; Ming-Wei Chang ; Kenton Lee ; Kristina Toutanova', 'subject': 'N19-1 2019', 'keywords': '', 'creator': 'LaTeX with hyperref package', 'producer': 'pdfTeX-1.40.18', 'creationdate': '2019-04-29T17:36:03+00:00', 'moddate': '2019-04-29T17:36:03+00:00', 'source': '/content/N19-1423_BERT.pdf', 'total_pages': 16, 'page': 0}, page_content='Proceedings of NAACL-HLT 2019, pages 4171–4186\\nMinneapolis, Minnesota, June 2 - June 7, 2019. \\nc 2019 Association for Computational Linguistics\\n4171\\nBERT: Pre-training of Deep Bidirectional Transformers for\\nLanguage Understanding\\nJacob Devlin Ming-Wei Chang Kenton Lee Kristina Toutanova\\nGoogle AI Language\\n{jacobdevlin,mingweichang,kentonl,kristout}@google.com\\nAbstract\\nWe introduce a new language representa\\x02tion model called BERT, which stands for\\nBidirectional Encoder Representations from\\nTransformers. Unlike recent language repre\\x02sentation models (Peters et al., 2018a; Rad\\x02ford et al., 2018), BERT is designed to pre\\x02train deep bidirectional representations from\\nunlabeled text by jointly conditioning on both\\nleft and right context in all layers. As a re\\x02sult, the pre-trained BERT model can be fine\\x02tuned with just one additional output layer\\nto create state-of-the-art models for a wide\\nrange of tasks, such as question answering and\\nlanguage inference, without substantial task\\x02specific architecture modifications.\\nBERT is conceptually simple and empirically\\npowerful. It obtains new state-of-the-art re\\x02sults on eleven natural language processing\\ntasks, including pushing the GLUE score to\\n80.5% (7.7% point absolute improvement),\\nMultiNLI accuracy to 86.7% (4.6% absolute\\nimprovement), SQuAD v1.1 question answer\\x02ing Test F1 to 93.2 (1.5 point absolute im\\x02provement) and SQuAD v2.0 Test F1 to 83.1\\n(5.1 point absolute improvement).\\n1 Introduction\\nLanguage model pre-training has been shown to\\nbe effective for improving many natural language\\nprocessing tasks (Dai and Le, 2015; Peters et al.,\\n2018a; Radford et al., 2018; Howard and Ruder,\\n2018). These include sentence-level tasks such as\\nnatural language inference (Bowman et al., 2015;\\nWilliams et al., 2018) and paraphrasing (Dolan\\nand Brockett, 2005), which aim to predict the re\\x02lationships between sentences by analyzing them\\nholistically, as well as token-level tasks such as\\nnamed entity recognition and question answering,\\nwhere models are required to produce fine-grained\\noutput at the token level (Tjong Kim Sang and\\nDe Meulder, 2003; Rajpurkar et al., 2016).\\nThere are two existing strategies for apply\\x02ing pre-trained language representations to down\\x02stream tasks: feature-based and fine-tuning. The\\nfeature-based approach, such as ELMo (Peters\\net al., 2018a), uses task-specific architectures that\\ninclude the pre-trained representations as addi\\x02tional features. The fine-tuning approach, such as\\nthe Generative Pre-trained Transformer (OpenAI\\nGPT) (Radford et al., 2018), introduces minimal\\ntask-specific parameters, and is trained on the\\ndownstream tasks by simply fine-tuning all pre\\x02trained parameters. The two approaches share the\\nsame objective function during pre-training, where\\nthey use unidirectional language models to learn\\ngeneral language representations.\\nWe argue that current techniques restrict the\\npower of the pre-trained representations, espe\\x02cially for the fine-tuning approaches. The ma\\x02jor limitation is that standard language models are\\nunidirectional, and this limits the choice of archi\\x02tectures that can be used during pre-training. For\\nexample, in OpenAI GPT, the authors use a left-to\\x02right architecture, where every token can only at\\x02tend to previous tokens in the self-attention layers\\nof the Transformer (Vaswani et al., 2017). Such re\\x02strictions are sub-optimal for sentence-level tasks,\\nand could be very harmful when applying fine\\x02tuning based approaches to token-level tasks such\\nas question answering, where it is crucial to incor\\x02porate context from both directions.\\nIn this paper, we improve the fine-tuning based\\napproaches by proposing BERT: Bidirectional\\nEncoder Representations from Transformers.\\nBERT alleviates the previously mentioned unidi\\x02rectionality constraint by using a “masked lan\\x02guage model” (MLM) pre-training objective, in\\x02spired by the Cloze task (Taylor, 1953). The\\nmasked language model randomly masks some of\\nthe tokens from the input, and the objective is to\\npredict the original vocabulary id of the masked\\n'),\n",
              " Document(metadata={'title': 'BERT: Pre-training of Deep Bidirectional Transformers for Language Understanding', 'author': 'Jacob Devlin ; Ming-Wei Chang ; Kenton Lee ; Kristina Toutanova', 'subject': 'N19-1 2019', 'keywords': '', 'creator': 'LaTeX with hyperref package', 'producer': 'pdfTeX-1.40.18', 'creationdate': '2019-04-29T17:36:03+00:00', 'moddate': '2019-04-29T17:36:03+00:00', 'source': '/content/N19-1423_BERT.pdf', 'total_pages': 16, 'page': 1}, page_content='4172\\nword based only on its context. Unlike left-to\\x02right language model pre-training, the MLM ob\\x02jective enables the representation to fuse the left\\nand the right context, which allows us to pre\\x02train a deep bidirectional Transformer. In addi\\x02tion to the masked language model, we also use\\na “next sentence prediction” task that jointly pre\\x02trains text-pair representations. The contributions\\nof our paper are as follows:\\n• We demonstrate the importance of bidirectional\\npre-training for language representations. Un\\x02like Radford et al. (2018), which uses unidirec\\x02tional language models for pre-training, BERT\\nuses masked language models to enable pre\\x02trained deep bidirectional representations. This\\nis also in contrast to Peters et al. (2018a), which\\nuses a shallow concatenation of independently\\ntrained left-to-right and right-to-left LMs.\\n• We show that pre-trained representations reduce\\nthe need for many heavily-engineered task\\x02specific architectures. BERT is the first fine\\x02tuning based representation model that achieves\\nstate-of-the-art performance on a large suite\\nof sentence-level and token-level tasks, outper\\x02forming many task-specific architectures.\\n• BERT advances the state of the art for eleven\\nNLP tasks. The code and pre-trained mod\\x02els are available at https://github.com/\\ngoogle-research/bert.\\n2 Related Work\\nThere is a long history of pre-training general lan\\x02guage representations, and we briefly review the\\nmost widely-used approaches in this section.\\n2.1 Unsupervised Feature-based Approaches\\nLearning widely applicable representations of\\nwords has been an active area of research for\\ndecades, including non-neural (Brown et al., 1992;\\nAndo and Zhang, 2005; Blitzer et al., 2006) and\\nneural (Mikolov et al., 2013; Pennington et al.,\\n2014) methods. Pre-trained word embeddings\\nare an integral part of modern NLP systems, of\\x02fering significant improvements over embeddings\\nlearned from scratch (Turian et al., 2010). To pre\\x02train word embedding vectors, left-to-right lan\\x02guage modeling objectives have been used (Mnih\\nand Hinton, 2009), as well as objectives to dis\\x02criminate correct from incorrect words in left and\\nright context (Mikolov et al., 2013).\\nThese approaches have been generalized to\\ncoarser granularities, such as sentence embed\\x02dings (Kiros et al., 2015; Logeswaran and Lee,\\n2018) or paragraph embeddings (Le and Mikolov,\\n2014). To train sentence representations, prior\\nwork has used objectives to rank candidate next\\nsentences (Jernite et al., 2017; Logeswaran and\\nLee, 2018), left-to-right generation of next sen\\x02tence words given a representation of the previous\\nsentence (Kiros et al., 2015), or denoising auto\\x02encoder derived objectives (Hill et al., 2016).\\nELMo and its predecessor (Peters et al., 2017,\\n2018a) generalize traditional word embedding re\\x02search along a different dimension. They extract\\ncontext-sensitive features from a left-to-right and a\\nright-to-left language model. The contextual rep\\x02resentation of each token is the concatenation of\\nthe left-to-right and right-to-left representations.\\nWhen integrating contextual word embeddings\\nwith existing task-specific architectures, ELMo\\nadvances the state of the art for several major NLP\\nbenchmarks (Peters et al., 2018a) including ques\\x02tion answering (Rajpurkar et al., 2016), sentiment\\nanalysis (Socher et al., 2013), and named entity\\nrecognition (Tjong Kim Sang and De Meulder,\\n2003). Melamud et al. (2016) proposed learning\\ncontextual representations through a task to pre\\x02dict a single word from both left and right context\\nusing LSTMs. Similar to ELMo, their model is\\nfeature-based and not deeply bidirectional. Fedus\\net al. (2018) shows that the cloze task can be used\\nto improve the robustness of text generation mod\\x02els.\\n2.2 Unsupervised Fine-tuning Approaches\\nAs with the feature-based approaches, the first\\nworks in this direction only pre-trained word em\\x02bedding parameters from unlabeled text (Col\\x02lobert and Weston, 2008).\\nMore recently, sentence or document encoders\\nwhich produce contextual token representations\\nhave been pre-trained from unlabeled text and\\nfine-tuned for a supervised downstream task (Dai\\nand Le, 2015; Howard and Ruder, 2018; Radford\\net al., 2018). The advantage of these approaches\\nis that few parameters need to be learned from\\nscratch. At least partly due to this advantage,\\nOpenAI GPT (Radford et al., 2018) achieved pre\\x02viously state-of-the-art results on many sentence\\x02level tasks from the GLUE benchmark (Wang\\net al., 2018a). Left-to-right language model-\\n'),\n",
              " Document(metadata={'title': 'BERT: Pre-training of Deep Bidirectional Transformers for Language Understanding', 'author': 'Jacob Devlin ; Ming-Wei Chang ; Kenton Lee ; Kristina Toutanova', 'subject': 'N19-1 2019', 'keywords': '', 'creator': 'LaTeX with hyperref package', 'producer': 'pdfTeX-1.40.18', 'creationdate': '2019-04-29T17:36:03+00:00', 'moddate': '2019-04-29T17:36:03+00:00', 'source': '/content/N19-1423_BERT.pdf', 'total_pages': 16, 'page': 2}, page_content='4173\\nBERT BERT\\nE[CLS] E1\\n E[SEP] ... EN\\nE1’ ... EM’\\nC T1 T[SEP] ... TN\\nT1’ ... TM’\\n[CLS] Tok 1 [SEP] ... Tok N Tok 1 ... TokM\\nQuestion Paragraph\\nStart/End Span\\nBERT\\nE[CLS] E1\\n E[SEP] ... EN\\nE1’ ... EM’\\nC T1 T[SEP] ... TN\\nT1’ ... TM’\\n[CLS] Tok 1 [SEP] ... Tok N Tok 1 ... TokM\\nMasked Sentence A Masked Sentence B\\nPre-training Fine-Tuning\\nNSP Mask LM Mask LM\\nUnlabeled Sentence A and B Pair \\nSQuAD\\nQuestion Answer Pair\\nMNLI NER\\nFigure 1: Overall pre-training and fine-tuning procedures for BERT. Apart from output layers, the same architec\\x02tures are used in both pre-training and fine-tuning. The same pre-trained model parameters are used to initialize\\nmodels for different down-stream tasks. During fine-tuning, all parameters are fine-tuned. [CLS] is a special\\nsymbol added in front of every input example, and [SEP] is a special separator token (e.g. separating ques\\x02tions/answers).\\ning and auto-encoder objectives have been used\\nfor pre-training such models (Howard and Ruder,\\n2018; Radford et al., 2018; Dai and Le, 2015).\\n2.3 Transfer Learning from Supervised Data\\nThere has also been work showing effective trans\\x02fer from supervised tasks with large datasets, such\\nas natural language inference (Conneau et al.,\\n2017) and machine translation (McCann et al.,\\n2017). Computer vision research has also demon\\x02strated the importance of transfer learning from\\nlarge pre-trained models, where an effective recipe\\nis to fine-tune models pre-trained with Ima\\x02geNet (Deng et al., 2009; Yosinski et al., 2014).\\n3 BERT\\nWe introduce BERT and its detailed implementa\\x02tion in this section. There are two steps in our\\nframework: pre-training and fine-tuning. Dur\\x02ing pre-training, the model is trained on unlabeled\\ndata over different pre-training tasks. For fine\\x02tuning, the BERT model is first initialized with\\nthe pre-trained parameters, and all of the param\\x02eters are fine-tuned using labeled data from the\\ndownstream tasks. Each downstream task has sep\\x02arate fine-tuned models, even though they are ini\\x02tialized with the same pre-trained parameters. The\\nquestion-answering example in Figure 1 will serve\\nas a running example for this section.\\nA distinctive feature of BERT is its unified ar\\x02chitecture across different tasks. There is mini\\x02mal difference between the pre-trained architec\\x02ture and the final downstream architecture.\\nModel Architecture BERT’s model architec\\x02ture is a multi-layer bidirectional Transformer en\\x02coder based on the original implementation de\\x02scribed in Vaswani et al. (2017) and released in\\nthe tensor2tensor library.1 Because the use\\nof Transformers has become common and our im\\x02plementation is almost identical to the original,\\nwe will omit an exhaustive background descrip\\x02tion of the model architecture and refer readers to\\nVaswani et al. (2017) as well as excellent guides\\nsuch as “The Annotated Transformer.”2\\nIn this work, we denote the number of layers\\n(i.e., Transformer blocks) as L, the hidden size as\\nH, and the number of self-attention heads as A.\\n3\\nWe primarily report results on two model sizes:\\nBERTBASE (L=12, H=768, A=12, Total Param\\x02eters=110M) and BERTLARGE (L=24, H=1024,\\nA=16, Total Parameters=340M).\\nBERTBASE was chosen to have the same model\\nsize as OpenAI GPT for comparison purposes.\\nCritically, however, the BERT Transformer uses\\nbidirectional self-attention, while the GPT Trans\\x02former uses constrained self-attention where every\\ntoken can only attend to context to its left.4\\n1\\nhttps://github.com/tensorflow/tensor2tensor\\n2\\nhttp://nlp.seas.harvard.edu/2018/04/03/attention.html\\n3\\nIn all cases we set the feed-forward/filter size to be 4H,\\ni.e., 3072 for the H = 768 and 4096 for the H = 1024.\\n4We note that in the literature the bidirectional Trans-\\n'),\n",
              " Document(metadata={'title': 'BERT: Pre-training of Deep Bidirectional Transformers for Language Understanding', 'author': 'Jacob Devlin ; Ming-Wei Chang ; Kenton Lee ; Kristina Toutanova', 'subject': 'N19-1 2019', 'keywords': '', 'creator': 'LaTeX with hyperref package', 'producer': 'pdfTeX-1.40.18', 'creationdate': '2019-04-29T17:36:03+00:00', 'moddate': '2019-04-29T17:36:03+00:00', 'source': '/content/N19-1423_BERT.pdf', 'total_pages': 16, 'page': 3}, page_content='4174\\nInput/Output Representations To make BERT\\nhandle a variety of down-stream tasks, our input\\nrepresentation is able to unambiguously represent\\nboth a single sentence and a pair of sentences\\n(e.g., h Question, Answeri) in one token sequence.\\nThroughout this work, a “sentence” can be an arbi\\x02trary span of contiguous text, rather than an actual\\nlinguistic sentence. A “sequence” refers to the in\\x02put token sequence to BERT, which may be a sin\\x02gle sentence or two sentences packed together.\\nWe use WordPiece embeddings (Wu et al.,\\n2016) with a 30,000 token vocabulary. The first\\ntoken of every sequence is always a special clas\\x02sification token ([CLS]). The final hidden state\\ncorresponding to this token is used as the ag\\x02gregate sequence representation for classification\\ntasks. Sentence pairs are packed together into a\\nsingle sequence. We differentiate the sentences in\\ntwo ways. First, we separate them with a special\\ntoken ([SEP]). Second, we add a learned embed\\x02ding to every token indicating whether it belongs\\nto sentence A or sentence B. As shown in Figure 1,\\nwe denote input embedding as E, the final hidden\\nvector of the special [CLS] token as C ∈ R\\nH,\\nand the final hidden vector for the i\\nth input token\\nas Ti ∈ R\\nH.\\nFor a given token, its input representation is\\nconstructed by summing the corresponding token,\\nsegment, and position embeddings. A visualiza\\x02tion of this construction can be seen in Figure 2.\\n3.1 Pre-training BERT\\nUnlike Peters et al. (2018a) and Radford et al.\\n(2018), we do not use traditional left-to-right or\\nright-to-left language models to pre-train BERT.\\nInstead, we pre-train BERT using two unsuper\\x02vised tasks, described in this section. This step\\nis presented in the left part of Figure 1.\\nTask #1: Masked LM Intuitively, it is reason\\x02able to believe that a deep bidirectional model is\\nstrictly more powerful than either a left-to-right\\nmodel or the shallow concatenation of a left-to\\x02right and a right-to-left model. Unfortunately,\\nstandard conditional language models can only be\\ntrained left-to-right or right-to-left, since bidirec\\x02tional conditioning would allow each word to in\\x02directly “see itself”, and the model could trivially\\npredict the target word in a multi-layered context.\\nformer is often referred to as a “Transformer encoder” while\\nthe left-context-only version is referred to as a “Transformer\\ndecoder” since it can be used for text generation.\\nIn order to train a deep bidirectional representa\\x02tion, we simply mask some percentage of the input\\ntokens at random, and then predict those masked\\ntokens. We refer to this procedure as a “masked\\nLM” (MLM), although it is often referred to as a\\nCloze task in the literature (Taylor, 1953). In this\\ncase, the final hidden vectors corresponding to the\\nmask tokens are fed into an output softmax over\\nthe vocabulary, as in a standard LM. In all of our\\nexperiments, we mask 15% of all WordPiece to\\x02kens in each sequence at random. In contrast to\\ndenoising auto-encoders (Vincent et al., 2008), we\\nonly predict the masked words rather than recon\\x02structing the entire input.\\nAlthough this allows us to obtain a bidirec\\x02tional pre-trained model, a downside is that we\\nare creating a mismatch between pre-training and\\nfine-tuning, since the [MASK] token does not ap\\x02pear during fine-tuning. To mitigate this, we do\\nnot always replace “masked” words with the ac\\x02tual [MASK] token. The training data generator\\nchooses 15% of the token positions at random for\\nprediction. If the i-th token is chosen, we replace\\nthe i-th token with (1) the [MASK] token 80% of\\nthe time (2) a random token 10% of the time (3)\\nthe unchanged i-th token 10% of the time. Then,\\nTi will be used to predict the original token with\\ncross entropy loss. We compare variations of this\\nprocedure in Appendix C.2.\\nTask #2: Next Sentence Prediction (NSP)\\nMany important downstream tasks such as Ques\\x02tion Answering (QA) and Natural Language Infer\\x02ence (NLI) are based on understanding the rela\\x02tionship between two sentences, which is not di\\x02rectly captured by language modeling. In order\\nto train a model that understands sentence rela\\x02tionships, we pre-train for a binarized next sen\\x02tence prediction task that can be trivially gener\\x02ated from any monolingual corpus. Specifically,\\nwhen choosing the sentences A and B for each pre\\x02training example, 50% of the time B is the actual\\nnext sentence that follows A (labeled as IsNext),\\nand 50% of the time it is a random sentence from\\nthe corpus (labeled as NotNext). As we show\\nin Figure 1, C is used for next sentence predic\\x02tion (NSP).5 Despite its simplicity, we demon\\x02strate in Section 5.1 that pre-training towards this\\ntask is very beneficial to both QA and NLI. 6\\n5The final model achieves 97%-98% accuracy on NSP.\\n6The vector C is not a meaningful sentence representation\\nwithout fine-tuning, since it was trained with NSP.\\n'),\n",
              " Document(metadata={'title': 'BERT: Pre-training of Deep Bidirectional Transformers for Language Understanding', 'author': 'Jacob Devlin ; Ming-Wei Chang ; Kenton Lee ; Kristina Toutanova', 'subject': 'N19-1 2019', 'keywords': '', 'creator': 'LaTeX with hyperref package', 'producer': 'pdfTeX-1.40.18', 'creationdate': '2019-04-29T17:36:03+00:00', 'moddate': '2019-04-29T17:36:03+00:00', 'source': '/content/N19-1423_BERT.pdf', 'total_pages': 16, 'page': 4}, page_content='4175\\n[CLS] my dog is cute [SEP] he likes play ##ing [SEP] Input\\nE[CLS] Ehe Elikes Eplay E##ing E[SEP] Emy Edog Eis Ecute E[SEP]\\nToken\\nEmbeddings\\nEAEBEBEBEBEBEAEAEAEAEA\\nSegment\\nEmbeddings\\nE0 E6E7E8E9E10 E1E2E3E4E5\\nPosition\\nEmbeddings\\nFigure 2: BERT input representation. The input embeddings are the sum of the token embeddings, the segmenta\\x02tion embeddings and the position embeddings.\\nThe NSP task is closely related to representation\\x02learning objectives used in Jernite et al. (2017) and\\nLogeswaran and Lee (2018). However, in prior\\nwork, only sentence embeddings are transferred to\\ndown-stream tasks, where BERT transfers all pa\\x02rameters to initialize end-task model parameters.\\nPre-training data The pre-training procedure\\nlargely follows the existing literature on language\\nmodel pre-training. For the pre-training corpus we\\nuse the BooksCorpus (800M words) (Zhu et al.,\\n2015) and English Wikipedia (2,500M words).\\nFor Wikipedia we extract only the text passages\\nand ignore lists, tables, and headers. It is criti\\x02cal to use a document-level corpus rather than a\\nshuffled sentence-level corpus such as the Billion\\nWord Benchmark (Chelba et al., 2013) in order to\\nextract long contiguous sequences.\\n3.2 Fine-tuning BERT\\nFine-tuning is straightforward since the self\\x02attention mechanism in the Transformer al\\x02lows BERT to model many downstream tasks—\\nwhether they involve single text or text pairs—by\\nswapping out the appropriate inputs and outputs.\\nFor applications involving text pairs, a common\\npattern is to independently encode text pairs be\\x02fore applying bidirectional cross attention, such\\nas Parikh et al. (2016); Seo et al. (2017). BERT\\ninstead uses the self-attention mechanism to unify\\nthese two stages, as encoding a concatenated text\\npair with self-attention effectively includes bidi\\x02rectional cross attention between two sentences.\\nFor each task, we simply plug in the task\\x02specific inputs and outputs into BERT and fine\\x02tune all the parameters end-to-end. At the in\\x02put, sentence A and sentence B from pre-training\\nare analogous to (1) sentence pairs in paraphras\\x02ing, (2) hypothesis-premise pairs in entailment, (3)\\nquestion-passage pairs in question answering, and\\n(4) a degenerate text-∅ pair in text classification\\nor sequence tagging. At the output, the token rep\\x02resentations are fed into an output layer for token\\x02level tasks, such as sequence tagging or question\\nanswering, and the [CLS] representation is fed\\ninto an output layer for classification, such as en\\x02tailment or sentiment analysis.\\nCompared to pre-training, fine-tuning is rela\\x02tively inexpensive. All of the results in the pa\\x02per can be replicated in at most 1 hour on a sin\\x02gle Cloud TPU, or a few hours on a GPU, starting\\nfrom the exact same pre-trained model.7 We de\\x02scribe the task-specific details in the correspond\\x02ing subsections of Section 4. More details can be\\nfound in Appendix A.5.\\n4 Experiments\\nIn this section, we present BERT fine-tuning re\\x02sults on 11 NLP tasks.\\n4.1 GLUE\\nThe General Language Understanding Evaluation\\n(GLUE) benchmark (Wang et al., 2018a) is a col\\x02lection of diverse natural language understanding\\ntasks. Detailed descriptions of GLUE datasets are\\nincluded in Appendix B.1.\\nTo fine-tune on GLUE, we represent the input\\nsequence (for single sentence or sentence pairs)\\nas described in Section 3, and use the final hid\\x02den vector C ∈ R\\nH corresponding to the first\\ninput token ([CLS]) as the aggregate representa\\x02tion. The only new parameters introduced during\\nfine-tuning are classification layer weights W ∈\\nR\\nK×H, where K is the number of labels. We com\\x02pute a standard classification loss with C and W,\\ni.e., log(softmax(CWT)).\\n7\\nFor example, the BERT SQuAD model can be trained in\\naround 30 minutes on a single Cloud TPU to achieve a Dev\\nF1 score of 91.0%.\\n8\\nSee (10) in https://gluebenchmark.com/faq.\\n')]"
            ]
          },
          "metadata": {},
          "execution_count": 38
        }
      ]
    },
    {
      "cell_type": "code",
      "source": [
        "chain = load_summarize_chain(\n",
        "    llm,\n",
        "    chain_type='stuff'\n",
        ")\n",
        "output_summary = chain.invoke(pdf_5pg)['output_text']\n"
      ],
      "metadata": {
        "id": "8wopgGPibKA3"
      },
      "execution_count": 39,
      "outputs": []
    },
    {
      "cell_type": "code",
      "source": [
        "# The Summary of the First 5 Pages of the Document\n",
        "\n",
        "Markdown(output_summary)"
      ],
      "metadata": {
        "colab": {
          "base_uri": "https://localhost:8080/",
          "height": 133
        },
        "id": "7ocBplABGFv9",
        "outputId": "c09d7f1a-1e19-45ee-9d75-db2f59e7a97d"
      },
      "execution_count": 40,
      "outputs": [
        {
          "output_type": "execute_result",
          "data": {
            "text/plain": [
              "<IPython.core.display.Markdown object>"
            ],
            "text/markdown": "The paper introduces BERT (Bidirectional Encoder Representations from Transformers), a novel language representation model developed by Google AI Language. BERT pre-trains deep bidirectional representations from unlabeled text by jointly considering both left and right contexts, overcoming limitations of previous unidirectional models. It employs a masked language model (MLM) and a next sentence prediction (NSP) task during pre-training, allowing it to achieve state-of-the-art results on eleven natural language processing tasks, including question answering and language inference. BERT's architecture is simple and effective, requiring minimal task-specific modifications during fine-tuning. The model demonstrates significant improvements over existing approaches, achieving notable performance metrics on benchmarks like GLUE and SQuAD. The code and pre-trained models are publicly available for further research and application."
          },
          "metadata": {},
          "execution_count": 40
        }
      ]
    },
    {
      "cell_type": "markdown",
      "source": [
        "### Document Splitter"
      ],
      "metadata": {
        "id": "JvrLsoivTulb"
      }
    },
    {
      "cell_type": "code",
      "source": [
        "from langchain.text_splitter import RecursiveCharacterTextSplitter, CharacterTextSplitter\n",
        "\n",
        "\n",
        "def chunk_data(docs, chunk_size=3000, chunk_overlap=200):\n",
        "    text_splitter=RecursiveCharacterTextSplitter(chunk_size=chunk_size,\n",
        "                                                 chunk_overlap=chunk_overlap)\n",
        "    chunk=text_splitter.split_documents(docs)\n",
        "    return chunk"
      ],
      "metadata": {
        "id": "5j9NMbSCbMyf"
      },
      "execution_count": 41,
      "outputs": []
    },
    {
      "cell_type": "code",
      "source": [
        "pdf_chunk=chunk_data(docs=pdf)\n",
        "len(pdf_chunk)"
      ],
      "metadata": {
        "id": "53mpwb7KbMrf",
        "colab": {
          "base_uri": "https://localhost:8080/"
        },
        "outputId": "b7ca050a-eb09-4c3d-e3bf-56e426c9d171"
      },
      "execution_count": 42,
      "outputs": [
        {
          "output_type": "execute_result",
          "data": {
            "text/plain": [
              "31"
            ]
          },
          "metadata": {},
          "execution_count": 42
        }
      ]
    },
    {
      "cell_type": "markdown",
      "source": [
        "### Make A Brief Summary of The Entire Document With Chain_Types of \"map_reduce\" and \"refine\""
      ],
      "metadata": {
        "id": "3zlVe2iISX0Q"
      }
    },
    {
      "cell_type": "code",
      "source": [
        "from langchain.chains.summarize import load_summarize_chain\n",
        "\n",
        "llm = ChatOpenAI(temperature=0,\n",
        "                 model_name='gpt-4o-mini',\n",
        "                 max_tokens=1024)"
      ],
      "metadata": {
        "id": "t6wPW3OFbOcJ"
      },
      "execution_count": 44,
      "outputs": []
    },
    {
      "cell_type": "code",
      "source": [
        "%%time\n",
        "chain = load_summarize_chain(llm,\n",
        "                             chain_type=\"map_reduce\")\n",
        "\n",
        "\n",
        "output_summary = chain.invoke(pdf_chunk)[\"output_text\"]\n",
        "Markdown(output_summary)"
      ],
      "metadata": {
        "colab": {
          "base_uri": "https://localhost:8080/",
          "height": 169
        },
        "id": "HC8622-mOPJY",
        "outputId": "9952d2b1-3679-4c19-a888-364172cfd393"
      },
      "execution_count": 48,
      "outputs": [
        {
          "output_type": "stream",
          "name": "stdout",
          "text": [
            "CPU times: user 1.12 s, sys: 132 ms, total: 1.25 s\n",
            "Wall time: 1min 28s\n"
          ]
        },
        {
          "output_type": "execute_result",
          "data": {
            "text/plain": [
              "<IPython.core.display.Markdown object>"
            ],
            "text/markdown": "The paper introduces BERT (Bidirectional Encoder Representations from Transformers), a revolutionary language representation model by Google AI Language that employs a deep bidirectional architecture for pre-training on unlabeled text. By considering both left and right contexts, BERT achieves state-of-the-art results on eleven benchmarks, including GLUE, MultiNLI, and SQuAD, through its masked language model (MLM) and next sentence prediction (NSP) tasks. The model features a multi-layer bidirectional Transformer encoder available in two sizes: BERTBASE and BERTLARGE, and utilizes WordPiece embeddings for efficient fine-tuning across various NLP tasks. The paper highlights BERT's superior contextual understanding and performance compared to previous models like OpenAI GPT and ELMo, emphasizing the significance of extensive pre-training and effective fine-tuning strategies in advancing NLP capabilities."
          },
          "metadata": {},
          "execution_count": 48
        }
      ]
    },
    {
      "cell_type": "code",
      "source": [
        "chain"
      ],
      "metadata": {
        "colab": {
          "base_uri": "https://localhost:8080/"
        },
        "id": "UH4RcewENqnx",
        "outputId": "cb42dfd9-01e3-4a3a-d65b-2bd80f111c3f"
      },
      "execution_count": 49,
      "outputs": [
        {
          "output_type": "execute_result",
          "data": {
            "text/plain": [
              "MapReduceDocumentsChain(verbose=False, llm_chain=LLMChain(verbose=False, prompt=PromptTemplate(input_variables=['text'], input_types={}, partial_variables={}, template='Write a concise summary of the following:\\n\\n\\n\"{text}\"\\n\\n\\nCONCISE SUMMARY:'), llm=ChatOpenAI(client=<openai.resources.chat.completions.completions.Completions object at 0x7f1ce7e16c50>, async_client=<openai.resources.chat.completions.completions.AsyncCompletions object at 0x7f1ce7e26c10>, root_client=<openai.OpenAI object at 0x7f1ce7de3490>, root_async_client=<openai.AsyncOpenAI object at 0x7f1ce9001990>, model_name='gpt-4o-mini', temperature=0.0, model_kwargs={}, openai_api_key=SecretStr('**********'), max_tokens=1024), output_parser=StrOutputParser(), llm_kwargs={}), reduce_documents_chain=ReduceDocumentsChain(verbose=False, combine_documents_chain=StuffDocumentsChain(verbose=False, llm_chain=LLMChain(verbose=False, prompt=PromptTemplate(input_variables=['text'], input_types={}, partial_variables={}, template='Write a concise summary of the following:\\n\\n\\n\"{text}\"\\n\\n\\nCONCISE SUMMARY:'), llm=ChatOpenAI(client=<openai.resources.chat.completions.completions.Completions object at 0x7f1ce7e16c50>, async_client=<openai.resources.chat.completions.completions.AsyncCompletions object at 0x7f1ce7e26c10>, root_client=<openai.OpenAI object at 0x7f1ce7de3490>, root_async_client=<openai.AsyncOpenAI object at 0x7f1ce9001990>, model_name='gpt-4o-mini', temperature=0.0, model_kwargs={}, openai_api_key=SecretStr('**********'), max_tokens=1024), output_parser=StrOutputParser(), llm_kwargs={}), document_prompt=PromptTemplate(input_variables=['page_content'], input_types={}, partial_variables={}, template='{page_content}'), document_variable_name='text')), document_variable_name='text')"
            ]
          },
          "metadata": {},
          "execution_count": 49
        }
      ]
    },
    {
      "cell_type": "code",
      "source": [
        "%%time\n",
        "chain = load_summarize_chain(llm,\n",
        "                             chain_type=\"refine\")\n",
        "\n",
        "output_summary = chain.invoke(pdf_chunk)[\"output_text\"]"
      ],
      "metadata": {
        "colab": {
          "base_uri": "https://localhost:8080/"
        },
        "id": "4wCIutlfOEJ_",
        "outputId": "cc5255a9-8384-4a01-fbd7-5d47f42e0fb5"
      },
      "execution_count": 50,
      "outputs": [
        {
          "output_type": "stream",
          "name": "stdout",
          "text": [
            "CPU times: user 2.67 s, sys: 406 ms, total: 3.08 s\n",
            "Wall time: 7min 14s\n"
          ]
        }
      ]
    },
    {
      "cell_type": "code",
      "source": [
        "chain"
      ],
      "metadata": {
        "colab": {
          "base_uri": "https://localhost:8080/"
        },
        "id": "NgzBMHRTOcbA",
        "outputId": "ca8d6232-28a4-4240-a241-b7bb780023ad"
      },
      "execution_count": 51,
      "outputs": [
        {
          "output_type": "execute_result",
          "data": {
            "text/plain": [
              "RefineDocumentsChain(verbose=False, initial_llm_chain=LLMChain(verbose=False, prompt=PromptTemplate(input_variables=['text'], input_types={}, partial_variables={}, template='Write a concise summary of the following:\\n\\n\\n\"{text}\"\\n\\n\\nCONCISE SUMMARY:'), llm=ChatOpenAI(client=<openai.resources.chat.completions.completions.Completions object at 0x7f1ce7e16c50>, async_client=<openai.resources.chat.completions.completions.AsyncCompletions object at 0x7f1ce7e26c10>, root_client=<openai.OpenAI object at 0x7f1ce7de3490>, root_async_client=<openai.AsyncOpenAI object at 0x7f1ce9001990>, model_name='gpt-4o-mini', temperature=0.0, model_kwargs={}, openai_api_key=SecretStr('**********'), max_tokens=1024), output_parser=StrOutputParser(), llm_kwargs={}), refine_llm_chain=LLMChain(verbose=False, prompt=PromptTemplate(input_variables=['existing_answer', 'text'], input_types={}, partial_variables={}, template=\"Your job is to produce a final summary.\\nWe have provided an existing summary up to a certain point: {existing_answer}\\nWe have the opportunity to refine the existing summary (only if needed) with some more context below.\\n------------\\n{text}\\n------------\\nGiven the new context, refine the original summary.\\nIf the context isn't useful, return the original summary.\"), llm=ChatOpenAI(client=<openai.resources.chat.completions.completions.Completions object at 0x7f1ce7e16c50>, async_client=<openai.resources.chat.completions.completions.AsyncCompletions object at 0x7f1ce7e26c10>, root_client=<openai.OpenAI object at 0x7f1ce7de3490>, root_async_client=<openai.AsyncOpenAI object at 0x7f1ce9001990>, model_name='gpt-4o-mini', temperature=0.0, model_kwargs={}, openai_api_key=SecretStr('**********'), max_tokens=1024), output_parser=StrOutputParser(), llm_kwargs={}), document_variable_name='text', initial_response_name='existing_answer', document_prompt=PromptTemplate(input_variables=['page_content'], input_types={}, partial_variables={}, template='{page_content}'))"
            ]
          },
          "metadata": {},
          "execution_count": 51
        }
      ]
    },
    {
      "cell_type": "markdown",
      "source": [
        "### Generate A Detailed Summary of The Entire Document With At Least 1000 Tokens. Also, Add A Title To The Summary And Present Key Points Using Bullet Points With Chain_Type of \"map_reduce\"."
      ],
      "metadata": {
        "id": "9zZxse-ZUV3S"
      }
    },
    {
      "cell_type": "code",
      "source": [
        "from langchain import PromptTemplate\n",
        "\n",
        "chunks_prompt=\"\"\"\n",
        "Summarize the following portion of a document:\n",
        "\n",
        "{text}\n",
        "\n",
        "Keep it concise and capture the most important points.\n",
        "\"\"\"\n",
        "map_prompt_template=PromptTemplate(input_variables=['text'],\n",
        "                                   template=chunks_prompt)"
      ],
      "metadata": {
        "id": "O7VQ3d3JRhE4"
      },
      "execution_count": 52,
      "outputs": []
    },
    {
      "cell_type": "code",
      "source": [
        "# prompt for combined summaries\n",
        "final_combine_prompt=\"\"\"\n",
        "Based on the following summarized sections:\n",
        "\n",
        "{text}\n",
        "\n",
        "Please generate:\n",
        "- A clear and informative **title**\n",
        "- A **detailed summary** at least 1000 tokens\n",
        "- Key information in **bullet points**\n",
        "\n",
        "Structure your response with the title at the top, then the summary, then bullet points.\n",
        "\"\"\"\n",
        "final_combine_prompt_template=PromptTemplate(input_variables=['text'],\n",
        "                                             template=final_combine_prompt)"
      ],
      "metadata": {
        "id": "mhYEPH7AR01N"
      },
      "execution_count": 53,
      "outputs": []
    },
    {
      "cell_type": "code",
      "source": [
        "chain = load_summarize_chain(\n",
        "                            llm=llm,\n",
        "                            chain_type='map_reduce',\n",
        "                            map_prompt=map_prompt_template,#every chunk\n",
        "                            combine_prompt=final_combine_prompt_template #combined all summarization\n",
        ")\n",
        "chain"
      ],
      "metadata": {
        "colab": {
          "base_uri": "https://localhost:8080/"
        },
        "id": "tqOcqJmyR566",
        "outputId": "b40aa63e-d910-43e6-bd07-94f771bfe322"
      },
      "execution_count": 54,
      "outputs": [
        {
          "output_type": "execute_result",
          "data": {
            "text/plain": [
              "MapReduceDocumentsChain(verbose=False, llm_chain=LLMChain(verbose=False, prompt=PromptTemplate(input_variables=['text'], input_types={}, partial_variables={}, template='\\nSummarize the following portion of a document:\\n\\n{text}\\n\\nKeep it concise and capture the most important points.\\n'), llm=ChatOpenAI(client=<openai.resources.chat.completions.completions.Completions object at 0x7f1ce7e16c50>, async_client=<openai.resources.chat.completions.completions.AsyncCompletions object at 0x7f1ce7e26c10>, root_client=<openai.OpenAI object at 0x7f1ce7de3490>, root_async_client=<openai.AsyncOpenAI object at 0x7f1ce9001990>, model_name='gpt-4o-mini', temperature=0.0, model_kwargs={}, openai_api_key=SecretStr('**********'), max_tokens=1024), output_parser=StrOutputParser(), llm_kwargs={}), reduce_documents_chain=ReduceDocumentsChain(verbose=False, combine_documents_chain=StuffDocumentsChain(verbose=False, llm_chain=LLMChain(verbose=False, prompt=PromptTemplate(input_variables=['text'], input_types={}, partial_variables={}, template='\\nBased on the following summarized sections:\\n\\n{text}\\n\\nPlease generate:\\n- A clear and informative **title**\\n- A **detailed summary** at least 1000 tokens\\n- Key information in **bullet points**\\n\\nStructure your response with the title at the top, then the summary, then bullet points.\\n'), llm=ChatOpenAI(client=<openai.resources.chat.completions.completions.Completions object at 0x7f1ce7e16c50>, async_client=<openai.resources.chat.completions.completions.AsyncCompletions object at 0x7f1ce7e26c10>, root_client=<openai.OpenAI object at 0x7f1ce7de3490>, root_async_client=<openai.AsyncOpenAI object at 0x7f1ce9001990>, model_name='gpt-4o-mini', temperature=0.0, model_kwargs={}, openai_api_key=SecretStr('**********'), max_tokens=1024), output_parser=StrOutputParser(), llm_kwargs={}), document_prompt=PromptTemplate(input_variables=['page_content'], input_types={}, partial_variables={}, template='{page_content}'), document_variable_name='text')), document_variable_name='text')"
            ]
          },
          "metadata": {},
          "execution_count": 54
        }
      ]
    },
    {
      "cell_type": "code",
      "source": [
        "output_summary = chain.invoke(pdf_chunk)[\"output_text\"]\n",
        "output_summary"
      ],
      "metadata": {
        "colab": {
          "base_uri": "https://localhost:8080/",
          "height": 161
        },
        "id": "GZ4dYbYhR9Px",
        "outputId": "28eb7627-ed7a-4a66-c741-51c23048cd27"
      },
      "execution_count": 55,
      "outputs": [
        {
          "output_type": "execute_result",
          "data": {
            "text/plain": [
              "\"# Title: Enhancing Named Entity Recognition through Strategic Fine-Tuning: Insights from BERT and Masking Techniques\\n\\n## Detailed Summary\\n\\nNamed Entity Recognition (NER) is a pivotal task in Natural Language Processing (NLP) that involves identifying and classifying key entities within text, such as names of people, organizations, locations, and other significant terms. The document under review provides an in-depth exploration of various fine-tuning strategies for NER, particularly focusing on the impact of different masking techniques on model performance. The findings reveal that while fine-tuning generally enhances performance across multiple masking strategies, certain approaches present unique challenges and varying levels of effectiveness.\\n\\nOne of the primary strategies discussed is the MASK strategy, which involves obscuring parts of the input data to encourage the model to learn contextual relationships and improve its predictive capabilities. This strategy is particularly relevant in the context of pre-trained models like BERT, which utilize masked language modeling as a core component of their training. However, the document highlights that the MASK strategy poses significant challenges when applied to feature-based approaches in NER. Feature-based methods typically rely on predefined features extracted from the input data, and the MASK strategy can disrupt the integrity of these features, leading to suboptimal performance. This disruption occurs because the model may struggle to accurately interpret the context of masked entities, resulting in a decrease in the overall effectiveness of the NER system.\\n\\nIn contrast, the document evaluates the RND (Random) strategy, which involves randomly masking entities within the input data. The findings indicate that this strategy significantly underperforms compared to the proposed strategy, which presumably incorporates a more systematic and informed approach to masking. The RND strategy's lack of structure and reliance on randomness can lead to a failure in capturing the necessary contextual cues that are vital for accurate entity recognition. As a result, the performance metrics associated with the RND strategy fall short, underscoring the importance of a well-thought-out masking approach in fine-tuning NER models.\\n\\nThe proposed strategy, while not explicitly detailed in the summary, is implied to be more effective due to its structured approach to masking. This suggests that the proposed method likely incorporates insights from the data itself, allowing for a more nuanced understanding of the relationships between entities and their contexts. By leveraging a more informed masking technique, the proposed strategy can enhance the model's ability to learn from the data, ultimately leading to improved performance in NER tasks.\\n\\nThe document emphasizes the importance of selecting appropriate masking strategies when fine-tuning models for NER. It suggests that practitioners should carefully consider the implications of their chosen approach, as the effectiveness of fine-tuning can vary significantly based on the masking strategy employed. The challenges associated with the MASK strategy and the underperformance of the RND strategy serve as critical reminders of the need for a strategic and informed approach to model training.\\n\\nFurthermore, the document discusses the implications of these findings for the broader field of NLP, particularly in the context of transfer learning and the utilization of pre-trained models like BERT. The ability of BERT to leverage rich contextual representations through its bidirectional architecture is highlighted as a significant advantage in NER tasks. The findings suggest that while fine-tuning is generally beneficial, the choice of masking strategy can greatly influence the model's ability to generalize and perform well on unseen data.\\n\\nThe document also touches upon the computational aspects of fine-tuning, noting that while fine-tuning BERT can be resource-intensive, the potential performance gains justify the investment. The authors advocate for a careful balance between model complexity and computational efficiency, particularly in low-resource settings where data may be scarce.\\n\\nIn conclusion, the findings presented in the document provide valuable insights into the complexities of fine-tuning NER models. The effectiveness of different masking strategies can greatly influence the performance of these models, and understanding the challenges associated with each approach is essential for practitioners aiming to optimize their NER systems. The proposed strategy, which appears to offer a more effective alternative to both the MASK and RND strategies, highlights the potential for innovation in the field of NER and the ongoing need for research into advanced fine-tuning techniques.\\n\\n## Key Information\\n\\n- **Fine-Tuning Effectiveness**: Fine-tuning is generally effective across various masking strategies for NER.\\n- **MASK Strategy Challenges**: The MASK strategy presents challenges for feature-based approaches in NER, disrupting the integrity of predefined features.\\n- **RND Strategy Performance**: The RND (Random) strategy significantly underperforms compared to the proposed strategy, failing to capture necessary contextual cues.\\n- **Proposed Strategy**: The proposed strategy is implied to be more effective due to its structured approach to masking, allowing for better learning from data.\\n- **Importance of Masking Strategy**: The choice of masking strategy is crucial for optimizing NER model performance, with significant variations in effectiveness based on the approach used.\\n- **Research Implications**: The findings underscore the need for ongoing research into advanced fine-tuning techniques and innovative masking strategies in NER.\\n- **Transfer Learning Context**: The document highlights the advantages of using pre-trained models like\""
            ],
            "application/vnd.google.colaboratory.intrinsic+json": {
              "type": "string"
            }
          },
          "metadata": {},
          "execution_count": 55
        }
      ]
    },
    {
      "cell_type": "code",
      "source": [
        "Markdown(output_summary)"
      ],
      "metadata": {
        "colab": {
          "base_uri": "https://localhost:8080/",
          "height": 1000
        },
        "id": "wTggBkM0PR2k",
        "outputId": "0d292451-7899-4298-c0c1-5ad517679cf6"
      },
      "execution_count": 56,
      "outputs": [
        {
          "output_type": "execute_result",
          "data": {
            "text/plain": [
              "<IPython.core.display.Markdown object>"
            ],
            "text/markdown": "# Title: Enhancing Named Entity Recognition through Strategic Fine-Tuning: Insights from BERT and Masking Techniques\n\n## Detailed Summary\n\nNamed Entity Recognition (NER) is a pivotal task in Natural Language Processing (NLP) that involves identifying and classifying key entities within text, such as names of people, organizations, locations, and other significant terms. The document under review provides an in-depth exploration of various fine-tuning strategies for NER, particularly focusing on the impact of different masking techniques on model performance. The findings reveal that while fine-tuning generally enhances performance across multiple masking strategies, certain approaches present unique challenges and varying levels of effectiveness.\n\nOne of the primary strategies discussed is the MASK strategy, which involves obscuring parts of the input data to encourage the model to learn contextual relationships and improve its predictive capabilities. This strategy is particularly relevant in the context of pre-trained models like BERT, which utilize masked language modeling as a core component of their training. However, the document highlights that the MASK strategy poses significant challenges when applied to feature-based approaches in NER. Feature-based methods typically rely on predefined features extracted from the input data, and the MASK strategy can disrupt the integrity of these features, leading to suboptimal performance. This disruption occurs because the model may struggle to accurately interpret the context of masked entities, resulting in a decrease in the overall effectiveness of the NER system.\n\nIn contrast, the document evaluates the RND (Random) strategy, which involves randomly masking entities within the input data. The findings indicate that this strategy significantly underperforms compared to the proposed strategy, which presumably incorporates a more systematic and informed approach to masking. The RND strategy's lack of structure and reliance on randomness can lead to a failure in capturing the necessary contextual cues that are vital for accurate entity recognition. As a result, the performance metrics associated with the RND strategy fall short, underscoring the importance of a well-thought-out masking approach in fine-tuning NER models.\n\nThe proposed strategy, while not explicitly detailed in the summary, is implied to be more effective due to its structured approach to masking. This suggests that the proposed method likely incorporates insights from the data itself, allowing for a more nuanced understanding of the relationships between entities and their contexts. By leveraging a more informed masking technique, the proposed strategy can enhance the model's ability to learn from the data, ultimately leading to improved performance in NER tasks.\n\nThe document emphasizes the importance of selecting appropriate masking strategies when fine-tuning models for NER. It suggests that practitioners should carefully consider the implications of their chosen approach, as the effectiveness of fine-tuning can vary significantly based on the masking strategy employed. The challenges associated with the MASK strategy and the underperformance of the RND strategy serve as critical reminders of the need for a strategic and informed approach to model training.\n\nFurthermore, the document discusses the implications of these findings for the broader field of NLP, particularly in the context of transfer learning and the utilization of pre-trained models like BERT. The ability of BERT to leverage rich contextual representations through its bidirectional architecture is highlighted as a significant advantage in NER tasks. The findings suggest that while fine-tuning is generally beneficial, the choice of masking strategy can greatly influence the model's ability to generalize and perform well on unseen data.\n\nThe document also touches upon the computational aspects of fine-tuning, noting that while fine-tuning BERT can be resource-intensive, the potential performance gains justify the investment. The authors advocate for a careful balance between model complexity and computational efficiency, particularly in low-resource settings where data may be scarce.\n\nIn conclusion, the findings presented in the document provide valuable insights into the complexities of fine-tuning NER models. The effectiveness of different masking strategies can greatly influence the performance of these models, and understanding the challenges associated with each approach is essential for practitioners aiming to optimize their NER systems. The proposed strategy, which appears to offer a more effective alternative to both the MASK and RND strategies, highlights the potential for innovation in the field of NER and the ongoing need for research into advanced fine-tuning techniques.\n\n## Key Information\n\n- **Fine-Tuning Effectiveness**: Fine-tuning is generally effective across various masking strategies for NER.\n- **MASK Strategy Challenges**: The MASK strategy presents challenges for feature-based approaches in NER, disrupting the integrity of predefined features.\n- **RND Strategy Performance**: The RND (Random) strategy significantly underperforms compared to the proposed strategy, failing to capture necessary contextual cues.\n- **Proposed Strategy**: The proposed strategy is implied to be more effective due to its structured approach to masking, allowing for better learning from data.\n- **Importance of Masking Strategy**: The choice of masking strategy is crucial for optimizing NER model performance, with significant variations in effectiveness based on the approach used.\n- **Research Implications**: The findings underscore the need for ongoing research into advanced fine-tuning techniques and innovative masking strategies in NER.\n- **Transfer Learning Context**: The document highlights the advantages of using pre-trained models like"
          },
          "metadata": {},
          "execution_count": 56
        }
      ]
    },
    {
      "cell_type": "markdown",
      "source": [
        "___\n",
        "\n",
        "<p style=\"text-align: center;\"><img src=\"https://docs.google.com/uc?id=1lY0Uj5R04yMY3-ZppPWxqCr5pvBLYPnV\" class=\"img-fluid\" alt=\"CLRSWY\"></p>\n",
        "\n",
        "___"
      ],
      "metadata": {
        "id": "FLJmnz9TVCRL"
      }
    }
  ]
}